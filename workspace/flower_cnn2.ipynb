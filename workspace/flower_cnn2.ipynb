{
 "cells": [
  {
   "metadata": {},
   "cell_type": "code",
   "outputs": [],
   "execution_count": null,
   "source": [
    "import torch\n",
    "import torch.nn as nn\n",
    "import torch.nn.functional as f\n",
    "import torch.optim as optim\n",
    "from torch.utils.data import DataLoader, TensorDataset\n",
    "import torchvision.transforms as transforms\n",
    "from torchvision.datasets import ImageFolder\n",
    "from torchvision.utils import save_image\n",
    "import numpy as np\n",
    "import pandas as pd\n",
    "import matplotlib.pyplot as plt"
   ],
   "id": "3b29541ebde571f8"
  },
  {
   "metadata": {},
   "cell_type": "code",
   "outputs": [],
   "execution_count": null,
   "source": [
    "torch.manual_seed(1)\n",
    "IMAGE_SIZE = 128\n",
    "\n",
    "device = 'cuda' if torch.cuda.is_available() else 'cpu'\n",
    "if device == 'cuda': torch.cuda.manual_seed_all(1)\n",
    "\n",
    "print(device)"
   ],
   "id": "b9e6fe49a53240d9"
  },
  {
   "metadata": {},
   "cell_type": "code",
   "outputs": [],
   "execution_count": null,
   "source": [
    "original_datasets = ImageFolder(\n",
    "    root='../data/flower_photos',\n",
    "    transform=transforms.Compose(\n",
    "        [transforms.Resize((IMAGE_SIZE, IMAGE_SIZE)), transforms.ToTensor()]    # transform할 내용이 2가지 이상일 때\n",
    "    )\n",
    ")\n",
    "\n",
    "original_loader = DataLoader(\n",
    "    dataset=original_datasets,\n",
    "    batch_size=2313,\n",
    "    shuffle=True,\n",
    "    num_workers=1   # 데이터 로드 시 사용할 병렬 프로세스 수\n",
    ")\n",
    "\n",
    "print(original_datasets)"
   ],
   "id": "3dc5bb33d8c7ca6b"
  },
  {
   "metadata": {},
   "cell_type": "code",
   "outputs": [],
   "execution_count": null,
   "source": [
    "for x, y in original_loader:\n",
    "    print(x.size(), y.size())\n",
    "    print(y)    # 폴더 순서대로 자동 인덱싱 해서 targets를 생성함\n",
    "    break"
   ],
   "id": "5c868e47f0ef0116"
  },
  {
   "metadata": {},
   "cell_type": "code",
   "outputs": [],
   "execution_count": null,
   "source": [
    "imgs, labels = next(iter(original_loader))\n",
    "plt.figure(figsize=(8, 10))\n",
    "\n",
    "def plot(x, y):\n",
    "    for i in range(len(x)):\n",
    "        plt.subplot(5, 5, i+1)\n",
    "        plt.title(y[i].item())\n",
    "        plt.imshow(x[i].permute(1, 2, 0))\n",
    "        plt.axis('off')\n",
    "    plt.show()\n",
    "\n",
    "plot(imgs[:25], labels[:25])"
   ],
   "id": "21e500bed84456cb"
  },
  {
   "metadata": {},
   "cell_type": "code",
   "outputs": [],
   "execution_count": null,
   "source": [
    "img_transform = transforms.Compose(\n",
    "    [\n",
    "        transforms.Resize((256, 256)),\n",
    "        transforms.CenterCrop((IMAGE_SIZE, IMAGE_SIZE)),\n",
    "        transforms.ToTensor()\n",
    "    ]\n",
    ")\n",
    "transforms_dataset = ImageFolder(\n",
    "    root='../data/flower_photos', transform=img_transform\n",
    ")\n",
    "transforms_loader = DataLoader(\n",
    "    transforms_dataset,\n",
    "    batch_size=1000,\n",
    "    shuffle=True\n",
    ")"
   ],
   "id": "c37fbad951aaae56"
  },
  {
   "metadata": {},
   "cell_type": "code",
   "outputs": [],
   "execution_count": null,
   "source": [
    "transform_img, transform_label = next(iter(transforms_loader))\n",
    "print(transform_img.shape, transform_label.shape)"
   ],
   "id": "da59b1af4325c518"
  },
  {
   "metadata": {},
   "cell_type": "code",
   "outputs": [],
   "execution_count": null,
   "source": "plot(transform_img[:25], transform_label[:25])",
   "id": "863071614652fb34"
  },
  {
   "metadata": {},
   "cell_type": "code",
   "outputs": [],
   "execution_count": null,
   "source": [
    "x_trans = torch.cat([x, transform_img], dim=0)\n",
    "y_trans = torch.cat([y, transform_label], dim=0)\n",
    "print(x_trans.size(), y_trans.size())"
   ],
   "id": "d61e4ced69f76afe"
  },
  {
   "metadata": {},
   "cell_type": "code",
   "outputs": [],
   "execution_count": null,
   "source": [
    "def create_loader(transform):\n",
    "    transform_dataset = ImageFolder(\n",
    "        root='../data/flower_photos',\n",
    "        transform=transform\n",
    "    )\n",
    "    transforms_loader = DataLoader(\n",
    "        dataset=transform_dataset,\n",
    "        batch_size=1000,\n",
    "        shuffle=True\n",
    "    )\n",
    "\n",
    "    transform_img, transform_label = next(iter(transforms_loader))\n",
    "\n",
    "    return transform_img, transform_label"
   ],
   "id": "227f465340fd1231"
  },
  {
   "metadata": {},
   "cell_type": "code",
   "outputs": [],
   "execution_count": null,
   "source": [
    "img_transform = transforms.Compose(\n",
    "    [\n",
    "        transforms.Resize((IMAGE_SIZE, IMAGE_SIZE)),\n",
    "        transforms.ColorJitter(\n",
    "            brightness=(0.7, 0.9),\n",
    "            contrast=(1, 1),\n",
    "            saturation=(0.7, 0.9),\n",
    "            hue=(-0.2, 0.2)   # 이건 색깔값 자체를 바꾸는 기능이라 잘 안씀\n",
    "        ),\n",
    "        transforms.ToTensor()\n",
    "    ]\n",
    ")\n",
    "color_tf_image, color_tf_label = create_loader(img_transform)\n",
    "plot(color_tf_image[:25], color_tf_label[:25])"
   ],
   "id": "d913cee47d3deee2"
  },
  {
   "metadata": {},
   "cell_type": "code",
   "outputs": [],
   "execution_count": null,
   "source": [
    "x_trans2 = torch.cat([x_trans, color_tf_image], dim=0)\n",
    "y_trans2 = torch.cat([y_trans, color_tf_label], dim=0)\n",
    "print(x_trans2.size(), y_trans2.size())"
   ],
   "id": "b9af116b9bd30518"
  },
  {
   "metadata": {},
   "cell_type": "code",
   "outputs": [],
   "execution_count": null,
   "source": [
    "img_transform = transforms.Compose(\n",
    "    [\n",
    "        transforms.Resize((IMAGE_SIZE, IMAGE_SIZE)),\n",
    "        transforms.RandomHorizontalFlip(p=0.8), # 이미지 뒤집기\n",
    "        transforms.ToTensor()\n",
    "    ]\n",
    ")\n",
    "\n",
    "flip_tf_image, flip_tf_label = create_loader(img_transform)\n",
    "\n",
    "x_trans3 = torch.cat([x_trans2, flip_tf_image], dim=0)\n",
    "y_trans3 = torch.cat([y_trans2, flip_tf_label], dim=0)\n",
    "\n",
    "print(x_trans3.size(), y_trans3.size())"
   ],
   "id": "4839b249dbb73fa9"
  },
  {
   "metadata": {},
   "cell_type": "code",
   "outputs": [],
   "execution_count": null,
   "source": [
    "img_transform = transforms.Compose(\n",
    "    [\n",
    "        transforms.Resize((IMAGE_SIZE, IMAGE_SIZE)),\n",
    "        transforms.RandomRotation(   # 이미지 회전시키기\n",
    "            degrees=(-15, 15),\n",
    "            interpolation=transforms.InterpolationMode.BILINEAR,\n",
    "            fill=0\n",
    "        ),\n",
    "        transforms.ToTensor()\n",
    "    ]\n",
    ")\n",
    "\n",
    "rot_tf_image, rot_tf_label = create_loader(img_transform)\n",
    "\n",
    "x_trans4 = torch.cat([x_trans3, rot_tf_image], dim=0)\n",
    "y_trans4 = torch.cat([y_trans3, rot_tf_label], dim=0)\n",
    "\n",
    "print(x_trans4.size(), y_trans4.size())"
   ],
   "id": "437759d27b53c653"
  },
  {
   "metadata": {},
   "cell_type": "code",
   "outputs": [],
   "execution_count": null,
   "source": [
    "cnt0 = (y == 0).sum()\n",
    "cnt1 = (y == 1).sum()\n",
    "cnt2 = (y == 2).sum()\n",
    "cnt3 = (y == 3).sum()\n",
    "cnt4 = (y == 4).sum()\n",
    "print(cnt0.item())\n",
    "print(cnt1.item())\n",
    "print(cnt2.item())\n",
    "print(cnt3.item())\n",
    "print(cnt4.item())"
   ],
   "id": "2f0e9bc956d7a2a5"
  },
  {
   "metadata": {},
   "cell_type": "code",
   "outputs": [],
   "execution_count": null,
   "source": [
    "ratio = [0.9, 0.1]\n",
    "train_cnt = int(y.size(0) * ratio[0])\n",
    "test_cnt = int(y.size(0) * ratio[1])\n",
    "cnts = [train_cnt, test_cnt]\n",
    "print(train_cnt)\n",
    "print(test_cnt)"
   ],
   "id": "c749b5ab6f7f824d"
  },
  {
   "metadata": {},
   "cell_type": "code",
   "outputs": [],
   "execution_count": null,
   "source": [
    "indices = torch.randperm(x.size(0))\n",
    "print(indices)"
   ],
   "id": "57de2757f1490fc7"
  },
  {
   "metadata": {},
   "cell_type": "code",
   "outputs": [],
   "execution_count": null,
   "source": [
    "x = torch.index_select(x, dim=0, index=indices)\n",
    "y = torch.index_select(y, dim=0, index=indices)"
   ],
   "id": "4263ddbdaa8d4e75"
  },
  {
   "metadata": {},
   "cell_type": "code",
   "outputs": [],
   "execution_count": null,
   "source": [
    "x_train = x[:cnts[0]]\n",
    "x_test = x[cnts[0]:]\n",
    "y_train = y[:cnts[0]]\n",
    "y_test = y[cnts[0]:]\n",
    "\n",
    "print(x_train.size(), y_train.size())\n",
    "print(x_test.size(), y_test.size())"
   ],
   "id": "65a60b328a76b175"
  },
  {
   "metadata": {},
   "cell_type": "code",
   "outputs": [],
   "execution_count": null,
   "source": [
    "train_dataset = TensorDataset(x_train, y_train) # 데이터 셋 생성\n",
    "test_dataset = TensorDataset(x_test, y_test)\n",
    "print(train_dataset, test_dataset)"
   ],
   "id": "bc9515b4e8007acb"
  },
  {
   "metadata": {},
   "cell_type": "code",
   "outputs": [],
   "execution_count": null,
   "source": [
    "train_loader = DataLoader(train_dataset, batch_size=100, shuffle=True)\n",
    "test_loader = DataLoader(train_dataset, batch_size=100, shuffle=True)"
   ],
   "id": "91a8ba9082aa0367"
  },
  {
   "metadata": {},
   "cell_type": "code",
   "outputs": [],
   "execution_count": null,
   "source": [
    "class CNN(nn.Module):\n",
    "    def __init__(self):\n",
    "        super().__init__()\n",
    "        self.layer1 = nn.Sequential(\n",
    "            nn.Conv2d(3, 8, 3, stride=1, padding=1),   # 패딩이 1이면 컨볼루션 때는 해상도가 안 줄고 풀링할때만 줄어듬\n",
    "            nn.ReLU(),\n",
    "            nn.MaxPool2d(kernel_size=2, stride=2)\n",
    "        )\n",
    "        self.layer2 = nn.Sequential(\n",
    "            nn.Conv2d(8, 16, 3, stride=1, padding=1),\n",
    "            nn.ReLU(),\n",
    "            nn.MaxPool2d(kernel_size=2, stride=2)\n",
    "        )\n",
    "        self.layer3 = nn.Sequential(\n",
    "            nn.Conv2d(16, 32, 3, stride=1, padding=1),\n",
    "            nn.ReLU(),\n",
    "            nn.MaxPool2d(kernel_size=2, stride=2)\n",
    "        )\n",
    "        self.layer4 = nn.Sequential(\n",
    "            nn.Conv2d(32, 64, 3, stride=1, padding=1),\n",
    "            nn.ReLU(),\n",
    "            nn.MaxPool2d(kernel_size=2, stride=2)\n",
    "        )\n",
    "        self.layer5 = nn.Sequential(\n",
    "            nn.Conv2d(64, 128, 3, stride=1, padding=1),\n",
    "            nn.ReLU(),\n",
    "            nn.MaxPool2d(kernel_size=2, stride=2)\n",
    "        )\n",
    "        self.fc1 = nn.Linear(128*4*4, 128*4)\n",
    "        self.fc2 = nn.Linear(128*4, 128)\n",
    "        self.fc3 = nn.Linear(128, 32)\n",
    "        self.fc4 = nn.Linear(32, 5)\n",
    "\n",
    "    def forward(self, x):\n",
    "        x = self.layer5(self.layer4(self.layer3(self.layer2(self.layer1(x)))))\n",
    "        x = self.fc4(self.fc3(self.fc2(self.fc1(x.view(x.size(0), -1)))))\n",
    "        return x"
   ],
   "id": "6eb57342d53a6f52"
  },
  {
   "metadata": {},
   "cell_type": "code",
   "outputs": [],
   "execution_count": null,
   "source": [
    "model = CNN().to(device)\n",
    "criterion = nn.CrossEntropyLoss()\n",
    "optimizer = optim.Adam(model.parameters())\n"
   ],
   "id": "a409abb6674f2b50"
  },
  {
   "metadata": {},
   "cell_type": "code",
   "outputs": [],
   "execution_count": null,
   "source": [
    "def train(model, train_loader, optimizer):\n",
    "    model.train()   # 모델 훈련 (미분 함)\n",
    "\n",
    "    for batch_index, (img, label) in enumerate(train_loader):\n",
    "        img = img.to(device)\n",
    "        label = label.to(device)\n",
    "\n",
    "        y_hat = model(img)\n",
    "        loss = criterion(y_hat, label).to(device)\n",
    "\n",
    "        optimizer.zero_grad()\n",
    "        loss.backward()\n",
    "        optimizer.step()\n",
    "\n",
    "        if batch_index % 10 == 0:\n",
    "            print(f'Train Epoch: {epoch} | Train Loss: {loss.item()}')"
   ],
   "id": "39a42bfb4702ee80"
  },
  {
   "metadata": {},
   "cell_type": "code",
   "outputs": [],
   "execution_count": null,
   "source": [
    "test_loss = 0\n",
    "test_accuracy = 0\n",
    "\n",
    "def evaluate(model, test_loader):\n",
    "    model.eval()    # 모델 검증 (미분 안함)\n",
    "\n",
    "    with torch.no_grad():\n",
    "        for batch_index, (img, label) in enumerate(test_loader):\n",
    "            img = img.to(device)\n",
    "            label = label.to(device)\n",
    "\n",
    "            y_hat = model(img)\n",
    "            test_loss += criterion(y_hat, label).to(device).item()\n",
    "            pred = y_hat.argmax(dim=1)\n",
    "            test_accuracy += (pred == label).sum()\n",
    "        test_loss /= len(test_loader.dataset)\n",
    "        test_accuracy = (test_accuracy.float() / len(test_loader.dataset)) * 100.0\n",
    "\n",
    "\n",
    "    return test_loss, test_accuracy"
   ],
   "id": "7178f307fa7df26e"
  },
  {
   "metadata": {},
   "cell_type": "code",
   "outputs": [],
   "execution_count": null,
   "source": [
    "epochs = 200\n",
    "early_stop = 10\n",
    "lowest_loss = np.inf\n",
    "lowest_epoch = np.inf\n",
    "best_model = None\n",
    "path = '../data/model.pt'"
   ],
   "id": "864bb73a9f74581b"
  },
  {
   "metadata": {},
   "cell_type": "code",
   "outputs": [],
   "execution_count": null,
   "source": [
    "for epoch in range(epochs + 1):\n",
    "    train(model, train_loader, optimizer)\n",
    "    test_loss, test_accuracy = evaluate(model, test_loader)\n",
    "    print(f'Epoch: {epoch} | Test Loss: {test_loss} | Test Accuracy: {test_accuracy} | 최소 비용: {lowest_loss}')\n",
    "\n",
    "    if test_accuracy == 100:\n",
    "        print(f'Epoch {epoch}에서 최소 비용: {lowest_loss} (Early Stop = 10)')\n",
    "        break\n",
    "\n",
    "    if test_loss < lowest_loss:\n",
    "        lowest_loss = test_loss\n",
    "        lowest_epoch = epoch\n",
    "        torch.save(model.state_dict(), path)\n",
    "    else:\n",
    "        if lowest_epoch + early_stop < epoch:\n",
    "            print(f'Epoch {epoch}에서 최소 비용: {lowest_loss} (Early Stop = 10)')\n",
    "            break\n",
    "\n",
    "print('End of training.')"
   ],
   "id": "d342d45aaba2c910"
  },
  {
   "metadata": {},
   "cell_type": "code",
   "outputs": [],
   "execution_count": null,
   "source": [
    "best_model = CNN().to(device)\n",
    "best_model.load_state_dict(torch.load(path))\n",
    "best_model.eval()"
   ],
   "id": "fbfbc96828ba0a77"
  },
  {
   "metadata": {},
   "cell_type": "code",
   "outputs": [],
   "execution_count": null,
   "source": [
    "prediction = model(x_test[:10].to(device)).argmax(dim=-1)\n",
    "print(prediction, y_test[:10])"
   ],
   "id": "3e9e532933d5b875"
  },
  {
   "metadata": {},
   "cell_type": "code",
   "outputs": [],
   "execution_count": null,
   "source": "plot(x_test[:25], prediction[:25])",
   "id": "de0e5bf7c51d1ddd"
  },
  {
   "metadata": {},
   "cell_type": "code",
   "outputs": [],
   "execution_count": null,
   "source": [
    "test_data = ImageFolder(\n",
    "    root='../data/test_set',\n",
    "    transform=transforms.Compose(\n",
    "        [\n",
    "            transforms.Resize((IMAGE_SIZE, IMAGE_SIZE)),\n",
    "            transforms.ToTensor()\n",
    "        ]\n",
    "    ),\n",
    ")\n",
    "\n",
    "test_load = DataLoader(\n",
    "    test_data,\n",
    "    batch_size=10,\n",
    "    shuffle=False\n",
    ")"
   ],
   "id": "de242e6a0116eeb9"
  },
  {
   "metadata": {},
   "cell_type": "code",
   "outputs": [],
   "execution_count": null,
   "source": [
    "test_img, test_labels = next(iter(test_load))\n",
    "print(test_img.size(), test_labels.size())"
   ],
   "id": "6ef836e551fd7aff"
  },
  {
   "metadata": {},
   "cell_type": "code",
   "outputs": [],
   "execution_count": null,
   "source": [
    "pred2 = best_model(test_img.to(device)).argmax(dim=-1)\n",
    "print(pred2)"
   ],
   "id": "ed48895350e4c072"
  },
  {
   "metadata": {},
   "cell_type": "code",
   "outputs": [],
   "execution_count": null,
   "source": [
    "def plot2(x, y):\n",
    "    plt.figure(figsize=(8, 4))\n",
    "    for i in range(10):\n",
    "        plt.subplot(2, 5, i+1)\n",
    "        plt.imshow(x[i].permit(1, 2, 0))\n",
    "        plt.title(y[i].item())\n",
    "        plt.axis('off')\n",
    "    plt.show()\n",
    "\n",
    "plot2(test_img, test_labels)"
   ],
   "id": "df5ebd546687a5e0"
  },
  {
   "metadata": {},
   "cell_type": "code",
   "outputs": [],
   "execution_count": null,
   "source": "",
   "id": "6049cbeeed8e5442"
  }
 ],
 "metadata": {},
 "nbformat": 4,
 "nbformat_minor": 5
}
