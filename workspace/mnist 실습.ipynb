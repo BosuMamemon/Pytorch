{
 "cells": [
  {
   "cell_type": "code",
   "id": "initial_id",
   "metadata": {
    "collapsed": true,
    "ExecuteTime": {
     "end_time": "2025-06-24T06:16:29.988426Z",
     "start_time": "2025-06-24T06:16:29.981198Z"
    }
   },
   "source": [
    "import numpy as np\n",
    "import torch\n",
    "import torch.nn as nn\n",
    "import torch.nn.functional as f\n",
    "import torch.optim as optim\n",
    "from torchvision import datasets, transforms\n",
    "from torch.utils.data import DataLoader, random_split\n",
    "import matplotlib.pyplot as plt\n",
    "import pandas as pd\n",
    "from copy import deepcopy"
   ],
   "outputs": [],
   "execution_count": 78
  },
  {
   "metadata": {
    "ExecuteTime": {
     "end_time": "2025-06-24T06:16:30.246967Z",
     "start_time": "2025-06-24T06:16:30.044325Z"
    }
   },
   "cell_type": "code",
   "source": [
    "fashion_train = datasets.FashionMNIST(\n",
    "    root='../data/FasionMNIST_data/',\n",
    "    train=True,\n",
    "    transform=transforms.ToTensor(),\n",
    "    download=True\n",
    ")\n",
    "fashion_test = datasets.FashionMNIST(\n",
    "    root='../data/FasionMNIST_data/',\n",
    "    train=False,\n",
    "    transform=transforms.ToTensor(),\n",
    "    download=True\n",
    ")"
   ],
   "id": "6d43c57fa1993c91",
   "outputs": [],
   "execution_count": 79
  },
  {
   "metadata": {
    "ExecuteTime": {
     "end_time": "2025-06-24T06:16:30.441535Z",
     "start_time": "2025-06-24T06:16:30.318198Z"
    }
   },
   "cell_type": "code",
   "source": [
    "x = (fashion_train.data.float() / 255)\n",
    "x = x.view(x.size(0), -1)\n",
    "y = fashion_train.targets\n",
    "\n",
    "input_size = x.size(-1)\n",
    "output_size = len(np.unique(y))\n",
    "print(input_size, output_size)\n",
    "\n",
    "train_cnt = int(x.size(0) * 0.8)   # 60000 * 0.8\n",
    "valid_cnt = int(x.size(0) * 0.2)   # 60000 * 0.2\n",
    "test_cnt = len(fashion_test)\n",
    "cnts = [train_cnt, valid_cnt]\n",
    "train_dataset, valid_dataset = random_split(fashion_train, cnts)"
   ],
   "id": "777b7f0b96f72c7d",
   "outputs": [
    {
     "name": "stdout",
     "output_type": "stream",
     "text": [
      "784 10\n"
     ]
    }
   ],
   "execution_count": 80
  },
  {
   "metadata": {
    "ExecuteTime": {
     "end_time": "2025-06-24T06:16:30.507160Z",
     "start_time": "2025-06-24T06:16:30.496068Z"
    }
   },
   "cell_type": "code",
   "source": [
    "batch_size = 256\n",
    "train_loader = DataLoader(\n",
    "    dataset=train_dataset.dataset,\n",
    "    batch_size=batch_size,\n",
    "    shuffle=True)\n",
    "\n",
    "valid_loader = DataLoader(\n",
    "    dataset=valid_dataset.dataset,\n",
    "    batch_size=batch_size,\n",
    "    shuffle=True)\n",
    "\n",
    "test_loader = DataLoader(\n",
    "    dataset=fashion_test,\n",
    "    batch_size=batch_size,\n",
    "    shuffle=True)"
   ],
   "id": "fff61168203e999a",
   "outputs": [],
   "execution_count": 81
  },
  {
   "metadata": {
    "ExecuteTime": {
     "end_time": "2025-06-24T06:16:30.598822Z",
     "start_time": "2025-06-24T06:16:30.564043Z"
    }
   },
   "cell_type": "code",
   "source": [
    "model = nn.Sequential(\n",
    "    nn.Linear(input_size, 400),\n",
    "    nn.LeakyReLU(),\n",
    "    nn.BatchNorm1d(400),\n",
    "    nn.Linear(400, 200),\n",
    "    nn.LeakyReLU(),\n",
    "    nn.BatchNorm1d(200),\n",
    "    nn.Linear(200, 100),\n",
    "    nn.LeakyReLU(),\n",
    "    nn.BatchNorm1d(100),\n",
    "    nn.Linear(100, 50),\n",
    "    nn.LeakyReLU(),\n",
    "    nn.BatchNorm1d(50),\n",
    "    nn.Linear(50, 25),\n",
    "    nn.LeakyReLU(),\n",
    "    nn.BatchNorm1d(25),\n",
    "    nn.Linear(25, output_size),\n",
    "    nn.LogSoftmax(dim=-1)\n",
    ")\n",
    "\n",
    "criterion = nn.NLLLoss()\n",
    "optimizer = optim.Adam(model.parameters())\n",
    "epochs = 100\n",
    "\n",
    "lowest_loss = np.inf\n",
    "best_model = None\n",
    "early_stop = 10\n",
    "lowest_epoch = np.inf\n",
    "\n",
    "train_history, valid_history = [], []"
   ],
   "id": "b7ff9adf7b680483",
   "outputs": [],
   "execution_count": 82
  },
  {
   "metadata": {
    "ExecuteTime": {
     "end_time": "2025-06-24T06:43:31.556188Z",
     "start_time": "2025-06-24T06:16:30.633755Z"
    }
   },
   "cell_type": "code",
   "source": [
    "for epoch in range(epochs + 1):\n",
    "    total_batch_train = len(train_loader)\n",
    "    train_loss = 0\n",
    "\n",
    "    for x, y in train_loader:\n",
    "        x = (x.float() / 255).view(x.size(0), -1)\n",
    "\n",
    "        y_hat = model(x)\n",
    "        loss = criterion(y_hat, y.squeeze())\n",
    "\n",
    "        optimizer.zero_grad()\n",
    "        loss.backward()\n",
    "        optimizer.step()\n",
    "        train_loss += float(loss)\n",
    "    train_loss = train_loss / total_batch_train\n",
    "\n",
    "    with torch.no_grad():\n",
    "        total_batch_valid = len(valid_loader)\n",
    "        valid_loss = 0\n",
    "        for x, y in valid_loader:\n",
    "            x = (x.float() / 255).view(x.size(0), -1)\n",
    "\n",
    "            y_hat = model(x)\n",
    "            loss = criterion(y_hat, y.squeeze())\n",
    "\n",
    "            valid_loss += float(loss)\n",
    "        valid_loss = valid_loss / total_batch_valid\n",
    "\n",
    "    train_history += [train_loss]\n",
    "    valid_history += [valid_loss]\n",
    "\n",
    "    if epoch % 5 == 0:\n",
    "        print(f'Epoch: {epoch} | Train Loss: {train_loss:.4f} | Valid Loss: {valid_loss:.4f} | Lowest Valid Loss: {lowest_loss:.4f}')\n",
    "\n",
    "    if valid_loss <= lowest_loss:\n",
    "        lowest_loss = valid_loss\n",
    "        lowest_epoch = epoch\n",
    "        best_model = deepcopy(model.state_dict())\n",
    "    else:\n",
    "        if (early_stop > 0) and (lowest_epoch + early_stop < epoch):\n",
    "            print(f'{lowest_epoch} 이후 {early_stop} epoch 증가하는 동안 손실함수 감소 없음')\n",
    "            break\n",
    "\n",
    "print(f'epoch {lowest_epoch}일 때 최소 손실함수: {lowest_loss}')"
   ],
   "id": "7f4a9a9fc33bab78",
   "outputs": [
    {
     "name": "stdout",
     "output_type": "stream",
     "text": [
      "Epoch: 0 | Train Loss: 0.6116 | Valid Loss: 0.3947 | Lowest Valid Loss: inf\n",
      "Epoch: 5 | Train Loss: 0.2657 | Valid Loss: 0.2422 | Lowest Valid Loss: 0.2480\n",
      "Epoch: 10 | Train Loss: 0.2111 | Valid Loss: 0.1971 | Lowest Valid Loss: 0.2042\n",
      "Epoch: 15 | Train Loss: 0.1730 | Valid Loss: 0.1482 | Lowest Valid Loss: 0.1690\n",
      "Epoch: 20 | Train Loss: 0.1400 | Valid Loss: 0.1330 | Lowest Valid Loss: 0.1324\n",
      "Epoch: 25 | Train Loss: 0.1209 | Valid Loss: 0.1057 | Lowest Valid Loss: 0.1061\n",
      "Epoch: 30 | Train Loss: 0.0977 | Valid Loss: 0.0945 | Lowest Valid Loss: 0.0938\n",
      "Epoch: 35 | Train Loss: 0.0877 | Valid Loss: 0.0784 | Lowest Valid Loss: 0.0743\n",
      "Epoch: 40 | Train Loss: 0.0728 | Valid Loss: 0.0680 | Lowest Valid Loss: 0.0598\n",
      "Epoch: 45 | Train Loss: 0.0702 | Valid Loss: 0.0580 | Lowest Valid Loss: 0.0521\n",
      "Epoch: 50 | Train Loss: 0.0565 | Valid Loss: 0.0471 | Lowest Valid Loss: 0.0472\n",
      "Epoch: 55 | Train Loss: 0.0560 | Valid Loss: 0.0415 | Lowest Valid Loss: 0.0462\n",
      "Epoch: 60 | Train Loss: 0.0473 | Valid Loss: 0.0371 | Lowest Valid Loss: 0.0348\n",
      "Epoch: 65 | Train Loss: 0.0415 | Valid Loss: 0.0357 | Lowest Valid Loss: 0.0297\n",
      "Epoch: 70 | Train Loss: 0.0442 | Valid Loss: 0.0348 | Lowest Valid Loss: 0.0297\n",
      "63 이후 10 epoch 증가하는 동안 손실함수 감소 없음\n",
      "epoch 63일 때 최소 손실함수: 0.029650820280484696\n"
     ]
    }
   ],
   "execution_count": 83
  },
  {
   "metadata": {
    "ExecuteTime": {
     "end_time": "2025-06-24T06:43:32.084301Z",
     "start_time": "2025-06-24T06:43:31.764686Z"
    }
   },
   "cell_type": "code",
   "source": [
    "plot_from = 0\n",
    "\n",
    "plt.figure(figsize=(6, 6))\n",
    "plt.grid(True)\n",
    "plt.title('Train / Valid Loss History')\n",
    "plt.plot(range(plot_from, len(train_history)), train_history[plot_from:], label='Train Loss')\n",
    "plt.plot(range(plot_from, len(valid_history)), valid_history[plot_from:], label='Valid Loss')\n",
    "plt.legend()\n",
    "plt.show()"
   ],
   "id": "93cdc8b9beaa1932",
   "outputs": [
    {
     "data": {
      "text/plain": [
       "<Figure size 600x600 with 1 Axes>"
      ],
      "image/png": "[encoded data removed]"
     },
     "metadata": {},
     "output_type": "display_data"
    }
   ],
   "execution_count": 84
  },
  {
   "metadata": {
    "ExecuteTime": {
     "end_time": "2025-06-24T06:43:33.973513Z",
     "start_time": "2025-06-24T06:43:32.215618Z"
    }
   },
   "cell_type": "code",
   "source": [
    "test_loss = 0\n",
    "y_hat_list = []\n",
    "\n",
    "with torch.no_grad():\n",
    "    for x, y in test_loader:\n",
    "        x = (x.float() / 255).view(x.size(0), -1)\n",
    "\n",
    "        y_hat = model(x)\n",
    "        loss = criterion(y_hat, y)\n",
    "\n",
    "        test_loss += float(loss)\n",
    "        y_hat_list += [y_hat]\n",
    "test_loss = test_loss / len(valid_loader)\n",
    "\n",
    "y_hat_list = torch.cat(y_hat_list, dim=0)\n",
    "\n",
    "print('Test Loss:', test_loss)"
   ],
   "id": "44729b908d068425",
   "outputs": [
    {
     "name": "stdout",
     "output_type": "stream",
     "text": [
      "Test Loss: 0.10507726066924156\n"
     ]
    }
   ],
   "execution_count": 85
  },
  {
   "metadata": {
    "ExecuteTime": {
     "end_time": "2025-06-24T06:43:34.111625Z",
     "start_time": "2025-06-24T06:43:34.101044Z"
    }
   },
   "cell_type": "code",
   "source": [
    "correct_cnt = (fashion_test.targets == torch.argmax(y_hat_list, dim=-1)).sum()\n",
    "print(correct_cnt / 10000)"
   ],
   "id": "14f4e315d59c46a5",
   "outputs": [
    {
     "name": "stdout",
     "output_type": "stream",
     "text": [
      "tensor(0.1036)\n"
     ]
    }
   ],
   "execution_count": 86
  },
  {
   "metadata": {
    "ExecuteTime": {
     "end_time": "2025-06-24T06:43:34.259695Z",
     "start_time": "2025-06-24T06:43:34.232303Z"
    }
   },
   "cell_type": "code",
   "source": [
    "from sklearn.metrics import confusion_matrix\n",
    "\n",
    "df = pd.DataFrame(confusion_matrix(fashion_test.targets, torch.argmax(y_hat_list, dim=-1)))\n",
    "df"
   ],
   "id": "a4d76b92dd4578ce",
   "outputs": [
    {
     "data": {
      "text/plain": [
       "     0    1    2    3    4    5    6    7    8    9\n",
       "0  119  111   93  101   94   89   98  103   96   96\n",
       "1  119   99  108  119   85   91   97   95   89   98\n",
       "2  104   96  105   99   81  118  100  110   90   97\n",
       "3   95   87  106   80   90  104   92  126  119  101\n",
       "4   94   99  114  107  105  106   92  101   87   95\n",
       "5  100   89  103  109  101  114   91   89  107   97\n",
       "6   99   85  108   97  102   86   99  115  104  105\n",
       "7  102  108  108   94  106   92   99   94  101   96\n",
       "8   89  118  117   98   89  109   93   89  104   94\n",
       "9  110   99   96   98  107   83   95   96   99  117"
      ],
      "text/html": [
       "<div>\n",
       "<style scoped>\n",
       "    .dataframe tbody tr th:only-of-type {\n",
       "        vertical-align: middle;\n",
       "    }\n",
       "\n",
       "    .dataframe tbody tr th {\n",
       "        vertical-align: top;\n",
       "    }\n",
       "\n",
       "    .dataframe thead th {\n",
       "        text-align: right;\n",
       "    }\n",
       "</style>\n",
       "<table border=\"1\" class=\"dataframe\">\n",
       "  <thead>\n",
       "    <tr style=\"text-align: right;\">\n",
       "      <th></th>\n",
       "      <th>0</th>\n",
       "      <th>1</th>\n",
       "      <th>2</th>\n",
       "      <th>3</th>\n",
       "      <th>4</th>\n",
       "      <th>5</th>\n",
       "      <th>6</th>\n",
       "      <th>7</th>\n",
       "      <th>8</th>\n",
       "      <th>9</th>\n",
       "    </tr>\n",
       "  </thead>\n",
       "  <tbody>\n",
       "    <tr>\n",
       "      <th>0</th>\n",
       "      <td>119</td>\n",
       "      <td>111</td>\n",
       "      <td>93</td>\n",
       "      <td>101</td>\n",
       "      <td>94</td>\n",
       "      <td>89</td>\n",
       "      <td>98</td>\n",
       "      <td>103</td>\n",
       "      <td>96</td>\n",
       "      <td>96</td>\n",
       "    </tr>\n",
       "    <tr>\n",
       "      <th>1</th>\n",
       "      <td>119</td>\n",
       "      <td>99</td>\n",
       "      <td>108</td>\n",
       "      <td>119</td>\n",
       "      <td>85</td>\n",
       "      <td>91</td>\n",
       "      <td>97</td>\n",
       "      <td>95</td>\n",
       "      <td>89</td>\n",
       "      <td>98</td>\n",
       "    </tr>\n",
       "    <tr>\n",
       "      <th>2</th>\n",
       "      <td>104</td>\n",
       "      <td>96</td>\n",
       "      <td>105</td>\n",
       "      <td>99</td>\n",
       "      <td>81</td>\n",
       "      <td>118</td>\n",
       "      <td>100</td>\n",
       "      <td>110</td>\n",
       "      <td>90</td>\n",
       "      <td>97</td>\n",
       "    </tr>\n",
       "    <tr>\n",
       "      <th>3</th>\n",
       "      <td>95</td>\n",
       "      <td>87</td>\n",
       "      <td>106</td>\n",
       "      <td>80</td>\n",
       "      <td>90</td>\n",
       "      <td>104</td>\n",
       "      <td>92</td>\n",
       "      <td>126</td>\n",
       "      <td>119</td>\n",
       "      <td>101</td>\n",
       "    </tr>\n",
       "    <tr>\n",
       "      <th>4</th>\n",
       "      <td>94</td>\n",
       "      <td>99</td>\n",
       "      <td>114</td>\n",
       "      <td>107</td>\n",
       "      <td>105</td>\n",
       "      <td>106</td>\n",
       "      <td>92</td>\n",
       "      <td>101</td>\n",
       "      <td>87</td>\n",
       "      <td>95</td>\n",
       "    </tr>\n",
       "    <tr>\n",
       "      <th>5</th>\n",
       "      <td>100</td>\n",
       "      <td>89</td>\n",
       "      <td>103</td>\n",
       "      <td>109</td>\n",
       "      <td>101</td>\n",
       "      <td>114</td>\n",
       "      <td>91</td>\n",
       "      <td>89</td>\n",
       "      <td>107</td>\n",
       "      <td>97</td>\n",
       "    </tr>\n",
       "    <tr>\n",
       "      <th>6</th>\n",
       "      <td>99</td>\n",
       "      <td>85</td>\n",
       "      <td>108</td>\n",
       "      <td>97</td>\n",
       "      <td>102</td>\n",
       "      <td>86</td>\n",
       "      <td>99</td>\n",
       "      <td>115</td>\n",
       "      <td>104</td>\n",
       "      <td>105</td>\n",
       "    </tr>\n",
       "    <tr>\n",
       "      <th>7</th>\n",
       "      <td>102</td>\n",
       "      <td>108</td>\n",
       "      <td>108</td>\n",
       "      <td>94</td>\n",
       "      <td>106</td>\n",
       "      <td>92</td>\n",
       "      <td>99</td>\n",
       "      <td>94</td>\n",
       "      <td>101</td>\n",
       "      <td>96</td>\n",
       "    </tr>\n",
       "    <tr>\n",
       "      <th>8</th>\n",
       "      <td>89</td>\n",
       "      <td>118</td>\n",
       "      <td>117</td>\n",
       "      <td>98</td>\n",
       "      <td>89</td>\n",
       "      <td>109</td>\n",
       "      <td>93</td>\n",
       "      <td>89</td>\n",
       "      <td>104</td>\n",
       "      <td>94</td>\n",
       "    </tr>\n",
       "    <tr>\n",
       "      <th>9</th>\n",
       "      <td>110</td>\n",
       "      <td>99</td>\n",
       "      <td>96</td>\n",
       "      <td>98</td>\n",
       "      <td>107</td>\n",
       "      <td>83</td>\n",
       "      <td>95</td>\n",
       "      <td>96</td>\n",
       "      <td>99</td>\n",
       "      <td>117</td>\n",
       "    </tr>\n",
       "  </tbody>\n",
       "</table>\n",
       "</div>"
      ]
     },
     "execution_count": 87,
     "metadata": {},
     "output_type": "execute_result"
    }
   ],
   "execution_count": 87
  }
 ],
 "metadata": {
  "kernelspec": {
   "display_name": "Python [conda env:base] *",
   "language": "python",
   "name": "conda-base-py"
  },
  "language_info": {
   "codemirror_mode": {
    "name": "ipython",
    "version": 2
   },
   "file_extension": ".py",
   "mimetype": "text/x-python",
   "name": "python",
   "nbconvert_exporter": "python",
   "pygments_lexer": "ipython2",
   "version": "2.7.6"
  }
 },
 "nbformat": 4,
 "nbformat_minor": 5
}
