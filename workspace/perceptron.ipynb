{
 "cells": [
  {
   "cell_type": "code",
   "execution_count": 1,
   "id": "8a262bcd",
   "metadata": {
    "ExecuteTime": {
     "end_time": "2025-06-23T02:44:29.188991Z",
     "start_time": "2025-06-23T02:44:28.923075Z"
    }
   },
   "outputs": [],
   "source": [
    "import numpy as np"
   ]
  },
  {
   "cell_type": "code",
   "execution_count": 2,
   "id": "5c0103c0",
   "metadata": {
    "ExecuteTime": {
     "end_time": "2025-06-23T02:44:29.230126Z",
     "start_time": "2025-06-23T02:44:29.222996Z"
    }
   },
   "outputs": [],
   "source": [
    "def AND_gate(x):\n",
    "    w1 = 0.5\n",
    "    w2 = 0.5\n",
    "    b = -0.7\n",
    "    result = w1 * x[0] + w2 * x[1] + b\n",
    "    if result <= 0: return 0\n",
    "    else: return 1"
   ]
  },
  {
   "cell_type": "code",
   "execution_count": 3,
   "id": "e1e4c1e5",
   "metadata": {
    "ExecuteTime": {
     "end_time": "2025-06-23T02:44:29.289454Z",
     "start_time": "2025-06-23T02:44:29.259197Z"
    }
   },
   "outputs": [],
   "source": [
    "def NAND_gate(x):\n",
    "    w1 = -0.5\n",
    "    w2 = -0.5\n",
    "    b = 0.7\n",
    "    result = w1 * x[0] + w2 * x[1] + b\n",
    "    if result <= 0: return 0\n",
    "    else: return 1"
   ]
  },
  {
   "cell_type": "code",
   "execution_count": 4,
   "id": "a6484a08",
   "metadata": {
    "ExecuteTime": {
     "end_time": "2025-06-23T02:44:29.367563Z",
     "start_time": "2025-06-23T02:44:29.305455Z"
    }
   },
   "outputs": [],
   "source": [
    "def OR_gate(x):\n",
    "    w1 = 0.6\n",
    "    w2 = 0.6\n",
    "    b = -0.5\n",
    "    result = w1 * x[0] + w2 * x[1] + b\n",
    "    if result <= 0: return 0\n",
    "    else: return 1"
   ]
  },
  {
   "cell_type": "code",
   "execution_count": 5,
   "id": "977f2dc9",
   "metadata": {
    "ExecuteTime": {
     "end_time": "2025-06-23T02:44:29.646374Z",
     "start_time": "2025-06-23T02:44:29.636346Z"
    }
   },
   "outputs": [
    {
     "name": "stdout",
     "output_type": "stream",
     "text": [
      "[0, 0, 0, 1]\n",
      "[1, 1, 1, 0]\n",
      "[0, 1, 1, 1]\n"
     ]
    }
   ],
   "source": [
    "input_data = np.array([[0, 0], [0, 1], [1, 0], [1, 1]])\n",
    "result_and = []\n",
    "result_nand = []\n",
    "result_or = []\n",
    "\n",
    "for x in input_data:\n",
    "    result_and.append(AND_gate(x))\n",
    "    result_nand.append(NAND_gate(x))\n",
    "    result_or.append(OR_gate(x))\n",
    "\n",
    "\n",
    "print(result_and)\n",
    "print(result_nand)\n",
    "print(result_or)"
   ]
  },
  {
   "cell_type": "code",
   "execution_count": 6,
   "id": "2eda600d",
   "metadata": {
    "ExecuteTime": {
     "end_time": "2025-06-23T02:44:30.145694Z",
     "start_time": "2025-06-23T02:44:30.137815Z"
    }
   },
   "outputs": [
    {
     "name": "stdout",
     "output_type": "stream",
     "text": [
      "[0, 1, 1, 0]\n"
     ]
    }
   ],
   "source": [
    "# XOR gate (NAND와 OR의 AND)\n",
    "\n",
    "s1 = [] # NAND gate 결과\n",
    "s2 = [] # OR gate 결과\n",
    "new_input_data = []\n",
    "final_result = []\n",
    "\n",
    "for i in range(len(input_data)):\n",
    "    s1 = NAND_gate(input_data[i])\n",
    "    s2 = OR_gate(input_data[i])\n",
    "    new_input_data.append(s1)\n",
    "    new_input_data.append(s2)\n",
    "    final_result.append(AND_gate(new_input_data))\n",
    "    new_input_data = []\n",
    "\n",
    "print(final_result)"
   ]
  },
  {
   "cell_type": "code",
   "execution_count": 7,
   "id": "ae88af15",
   "metadata": {
    "ExecuteTime": {
     "end_time": "2025-06-23T02:44:34.388499Z",
     "start_time": "2025-06-23T02:44:30.342505Z"
    }
   },
   "outputs": [],
   "source": [
    "import torch\n",
    "import torch.nn as nn\n",
    "import torch.optim as optim\n",
    "import torch.nn.functional as F"
   ]
  },
  {
   "cell_type": "code",
   "execution_count": 8,
   "id": "477073bb",
   "metadata": {
    "ExecuteTime": {
     "end_time": "2025-06-23T02:44:34.420375Z",
     "start_time": "2025-06-23T02:44:34.413613Z"
    }
   },
   "outputs": [],
   "source": [
    "x = torch.FloatTensor([[0, 0], [0, 1], [1, 0], [1, 1]])\n",
    "y1 = torch.FloatTensor([[0], [0], [0], [1]])    # AND gate\n",
    "y2 = torch.FloatTensor([[1], [1], [1], [0]])    # NAND gate\n",
    "y3 = torch.FloatTensor([[0], [1], [1], [1]])    # OR gate\n",
    "y4 = torch.FloatTensor([[0], [1], [1], [0]])    # XOR gate"
   ]
  },
  {
   "cell_type": "code",
   "execution_count": 9,
   "id": "38995ee7",
   "metadata": {
    "ExecuteTime": {
     "end_time": "2025-06-23T02:44:39.405905Z",
     "start_time": "2025-06-23T02:44:34.476553Z"
    }
   },
   "outputs": [],
   "source": [
    "# 모델 생성\n",
    "linear = nn.Linear(2, 1, bias=True)\n",
    "sigmoid = nn.Sigmoid()\n",
    "model = nn.Sequential(linear, sigmoid)\n",
    "\n",
    "# 손실 함수, 최적화 함수 생성\n",
    "criterion = nn.BCELoss()  # 이진 크로스 엔트로피 손실 함수\n",
    "optimizer = optim.SGD(model.parameters(), lr=0.1)"
   ]
  },
  {
   "cell_type": "code",
   "execution_count": 10,
   "id": "bf0ec7d4",
   "metadata": {
    "ExecuteTime": {
     "end_time": "2025-06-23T02:44:40.257402Z",
     "start_time": "2025-06-23T02:44:39.439296Z"
    }
   },
   "outputs": [
    {
     "name": "stdout",
     "output_type": "stream",
     "text": [
      "0 0.705682635307312\n",
      "100 0.6935707330703735\n",
      "200 0.6933252215385437\n",
      "300 0.6932245492935181\n",
      "400 0.6931813359260559\n",
      "500 0.6931624412536621\n",
      "600 0.6931540966033936\n",
      "700 0.6931502819061279\n",
      "800 0.6931485533714294\n",
      "900 0.6931478381156921\n",
      "1000 0.6931474208831787\n"
     ]
    }
   ],
   "source": [
    "# XOR gate는 epoch을 몇 번을 돌려도 cost가 줄지를 않음. 단층 퍼셉트론으론 못 구함.\n",
    "\n",
    "for step in range(1001):\n",
    "    hx = model(x)\n",
    "    cost = criterion(hx, y4)\n",
    "\n",
    "    optimizer.zero_grad()\n",
    "    cost.backward()\n",
    "    optimizer.step()\n",
    "\n",
    "    if step % 100 == 0:\n",
    "        print(step, cost.item())"
   ]
  },
  {
   "cell_type": "code",
   "execution_count": 11,
   "id": "46530fe9",
   "metadata": {
    "ExecuteTime": {
     "end_time": "2025-06-23T02:44:40.315483Z",
     "start_time": "2025-06-23T02:44:40.307211Z"
    }
   },
   "outputs": [
    {
     "name": "stdout",
     "output_type": "stream",
     "text": [
      "tensor([[0.],\n",
      "        [0.],\n",
      "        [0.],\n",
      "        [1.]])\n"
     ]
    }
   ],
   "source": [
    "pred = model(x)\n",
    "print((pred > 0.5).float())"
   ]
  },
  {
   "cell_type": "code",
   "execution_count": 12,
   "id": "65507c1e",
   "metadata": {
    "ExecuteTime": {
     "end_time": "2025-06-23T02:44:40.429138Z",
     "start_time": "2025-06-23T02:44:40.421145Z"
    }
   },
   "outputs": [],
   "source": [
    "model = nn.Sequential(\n",
    "    nn.Linear(2, 5, bias=True),\n",
    "    nn.Sigmoid(),\n",
    "    nn.Linear(5, 5, bias=True),\n",
    "    nn.Sigmoid(),\n",
    "    nn.Linear(5, 5, bias=True),\n",
    "    nn.Sigmoid(),\n",
    "    nn.Linear(5, 1, bias=True),\n",
    "    nn.Sigmoid()\n",
    ")\n",
    "\n",
    "criterion = nn.BCELoss()\n",
    "optimizer = optim.SGD(model.parameters(), lr=0.1)"
   ]
  },
  {
   "cell_type": "code",
   "execution_count": 16,
   "id": "8250c7fe",
   "metadata": {
    "ExecuteTime": {
     "end_time": "2025-06-23T02:45:47.930513Z",
     "start_time": "2025-06-23T02:45:35.861475Z"
    }
   },
   "outputs": [
    {
     "name": "stdout",
     "output_type": "stream",
     "text": [
      "0 3.5228657722473145\n",
      "100 0.5829994082450867\n",
      "200 0.5008293390274048\n",
      "300 0.4911060929298401\n",
      "400 0.48766863346099854\n",
      "500 0.4859981834888458\n",
      "600 0.485066294670105\n",
      "700 0.4844615161418915\n",
      "800 0.48400214314460754\n",
      "900 0.48361390829086304\n",
      "1000 0.48326820135116577\n",
      "1100 0.4829533100128174\n",
      "1200 0.4826631247997284\n",
      "1300 0.48239395022392273\n",
      "1400 0.4821430444717407\n",
      "1500 0.48190832138061523\n",
      "1600 0.4816878139972687\n",
      "1700 0.48148009181022644\n",
      "1800 0.4812838137149811\n",
      "1900 0.48109763860702515\n",
      "2000 0.4809207320213318\n",
      "2100 0.48075202107429504\n",
      "2200 0.4805907905101776\n",
      "2300 0.4804363250732422\n",
      "2400 0.48028790950775146\n",
      "2500 0.48014503717422485\n",
      "2600 0.4800071120262146\n",
      "2700 0.4798735976219177\n",
      "2800 0.4797441363334656\n",
      "2900 0.4796181917190552\n",
      "3000 0.4794952869415283\n",
      "3100 0.47937509417533875\n",
      "3200 0.4792573153972626\n",
      "3300 0.4791415333747864\n",
      "3400 0.47902727127075195\n",
      "3500 0.4789142608642578\n",
      "3600 0.4788021445274353\n",
      "3700 0.4786904454231262\n",
      "3800 0.4785788655281067\n",
      "3900 0.47846701741218567\n",
      "4000 0.4783543348312378\n",
      "4100 0.4782404899597168\n",
      "4200 0.47812506556510925\n",
      "4300 0.478007435798645\n",
      "4400 0.47788703441619873\n",
      "4500 0.477763295173645\n",
      "4600 0.47763556241989136\n",
      "4700 0.47750312089920044\n",
      "4800 0.4773651361465454\n",
      "4900 0.4772205948829651\n",
      "5000 0.47706839442253113\n",
      "5100 0.47690752148628235\n",
      "5200 0.4767363667488098\n",
      "5300 0.47655338048934937\n",
      "5400 0.4763566851615906\n",
      "5500 0.47614407539367676\n",
      "5600 0.4759129285812378\n",
      "5700 0.4756599962711334\n",
      "5800 0.47538161277770996\n",
      "5900 0.47507303953170776\n",
      "6000 0.47472864389419556\n",
      "6100 0.4743412733078003\n",
      "6200 0.47390174865722656\n",
      "6300 0.47339847683906555\n",
      "6400 0.4728160798549652\n",
      "6500 0.47213441133499146\n",
      "6600 0.47132548689842224\n",
      "6700 0.4703509211540222\n",
      "6800 0.46915560960769653\n",
      "6900 0.46765944361686707\n",
      "7000 0.46574148535728455\n",
      "7100 0.46321582794189453\n",
      "7200 0.45978856086730957\n",
      "7300 0.4549879729747772\n",
      "7400 0.4480587840080261\n",
      "7500 0.4378213882446289\n",
      "7600 0.42251765727996826\n",
      "7700 0.3996657729148865\n",
      "7800 0.36618465185165405\n",
      "7900 0.31988638639450073\n",
      "8000 0.2630484402179718\n",
      "8100 0.2044740617275238\n",
      "8200 0.15440025925636292\n",
      "8300 0.1173197329044342\n",
      "8400 0.0918647050857544\n",
      "8500 0.07467092573642731\n",
      "8600 0.06278688460588455\n",
      "8700 0.05422699823975563\n",
      "8800 0.04778606444597244\n",
      "8900 0.04275112599134445\n",
      "9000 0.03869300335645676\n",
      "9100 0.03534286469221115\n",
      "9200 0.032524678856134415\n",
      "9300 0.030117999762296677\n",
      "9400 0.02803720161318779\n",
      "9500 0.02621951326727867\n",
      "9600 0.024617645889520645\n",
      "9700 0.023195117712020874\n",
      "9800 0.021923519670963287\n",
      "9900 0.020780004560947418\n",
      "10000 0.019746242091059685\n"
     ]
    }
   ],
   "source": [
    "for epoch in range(10001):\n",
    "    hx = model(x)\n",
    "    cost = criterion(hx, y4)\n",
    "    \n",
    "    optimizer.zero_grad()\n",
    "    cost.backward()\n",
    "    optimizer.step()\n",
    "\n",
    "    if epoch % 100 == 0:\n",
    "        print(epoch, cost.item())"
   ]
  },
  {
   "cell_type": "code",
   "execution_count": 17,
   "id": "8d562205",
   "metadata": {
    "ExecuteTime": {
     "end_time": "2025-06-23T02:46:10.535670Z",
     "start_time": "2025-06-23T02:46:10.528518Z"
    }
   },
   "outputs": [
    {
     "name": "stdout",
     "output_type": "stream",
     "text": [
      "tensor([[0.],\n",
      "        [1.],\n",
      "        [1.],\n",
      "        [0.]])\n"
     ]
    }
   ],
   "source": [
    "pred = model(x)\n",
    "print((pred > 0.5).float())"
   ]
  }
 ],
 "metadata": {
  "kernelspec": {
   "display_name": "base",
   "language": "python",
   "name": "python3"
  },
  "language_info": {
   "codemirror_mode": {
    "name": "ipython",
    "version": 3
   },
   "file_extension": ".py",
   "mimetype": "text/x-python",
   "name": "python",
   "nbconvert_exporter": "python",
   "pygments_lexer": "ipython3",
   "version": "3.12.7"
  }
 },
 "nbformat": 4,
 "nbformat_minor": 5
}
