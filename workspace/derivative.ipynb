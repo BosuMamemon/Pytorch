{
 "cells": [
  {
   "cell_type": "code",
   "execution_count": 37,
   "id": "73253478",
   "metadata": {},
   "outputs": [],
   "source": [
    "import numpy as np"
   ]
  },
  {
   "cell_type": "code",
   "execution_count": 38,
   "id": "2eadf972",
   "metadata": {},
   "outputs": [],
   "source": [
    "def my_func(x):\n",
    "    return x ** 2"
   ]
  },
  {
   "cell_type": "code",
   "execution_count": 39,
   "id": "5420b2f8",
   "metadata": {},
   "outputs": [],
   "source": [
    "def my_func2(x):\n",
    "    return x**2 + x*2 + 1"
   ]
  },
  {
   "cell_type": "code",
   "execution_count": 40,
   "id": "1309a7a8",
   "metadata": {},
   "outputs": [],
   "source": [
    "def my_func3(input):\n",
    "    x = input[0]\n",
    "    y = input[1]\n",
    "    return (2*x + 3*x*y + np.power(y, 3))"
   ]
  },
  {
   "cell_type": "code",
   "execution_count": 41,
   "id": "15e84317",
   "metadata": {},
   "outputs": [],
   "source": [
    "def my_func4(input):\n",
    "    w = input[0][0]\n",
    "    x = input[0][1]\n",
    "    y = input[1][0]\n",
    "    z = input[1][1]\n",
    "\n",
    "    return (w*x + w*y*z + 3*w + z * np.power(y, 2))\n",
    "# w 미분: x + yz + 3\n",
    "# x 미분: w\n",
    "# y 미분: wz + 2yz\n",
    "# z 미분: wy"
   ]
  },
  {
   "cell_type": "code",
   "execution_count": 42,
   "id": "68f33de1",
   "metadata": {},
   "outputs": [],
   "source": [
    "def numerical_derivative(f, x): # 수치 미분\n",
    "    delta_x = 1e-4\n",
    "    grad = np.zeros_like(x)\n",
    "\n",
    "    it = np.nditer(x, flags=['multi_index'], op_flags=[['readwrite']])\n",
    "\n",
    "    while not it.finished:\n",
    "        idx = it.multi_index\n",
    "        tmp_val = x[idx]\n",
    "\n",
    "        x[idx] = float(tmp_val) + delta_x\n",
    "        fx1 = f(x) # 실제로는 f(x + delta_x)\n",
    "\n",
    "        x[idx] = tmp_val - delta_x\n",
    "        fx2 = f(x) # 실제로는 f(x - delta_x)\n",
    "        grad[idx] = (fx1 - fx2) / (2 * delta_x)\n",
    "\n",
    "        x[idx] = tmp_val\n",
    "        it.iternext()\n",
    "    \n",
    "    return grad\n"
   ]
  },
  {
   "cell_type": "code",
   "execution_count": 44,
   "id": "bef04a10",
   "metadata": {},
   "outputs": [
    {
     "name": "stdout",
     "output_type": "stream",
     "text": [
      "[ 8.         15.00000001]\n",
      "[6.]\n",
      "[[17.  1.]\n",
      " [28. 12.]]\n"
     ]
    },
    {
     "name": "stderr",
     "output_type": "stream",
     "text": [
      "C:\\Users\\it\\AppData\\Local\\Temp\\ipykernel_3080\\2667032252.py:16: DeprecationWarning: Conversion of an array with ndim > 0 to a scalar is deprecated, and will error in future. Ensure you extract a single element from your array before performing this operation. (Deprecated NumPy 1.25.)\n",
      "  grad[idx] = (fx1 - fx2) / (2 * delta_x)\n"
     ]
    }
   ],
   "source": [
    "print(numerical_derivative(my_func3, np.array([1.0, 2.0])))\n",
    "print(numerical_derivative(my_func, np.array([3.0])))\n",
    "print(numerical_derivative(my_func4, np.array([[1.0, 2.0], [3.0, 4.0]])))"
   ]
  },
  {
   "cell_type": "code",
   "execution_count": null,
   "id": "b053a372",
   "metadata": {},
   "outputs": [],
   "source": []
  }
 ],
 "metadata": {
  "kernelspec": {
   "display_name": "base",
   "language": "python",
   "name": "python3"
  },
  "language_info": {
   "codemirror_mode": {
    "name": "ipython",
    "version": 3
   },
   "file_extension": ".py",
   "mimetype": "text/x-python",
   "name": "python",
   "nbconvert_exporter": "python",
   "pygments_lexer": "ipython3",
   "version": "3.12.7"
  }
 },
 "nbformat": 4,
 "nbformat_minor": 5
}
