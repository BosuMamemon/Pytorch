{
 "cells": [
  {
   "cell_type": "code",
   "execution_count": 1,
   "id": "7b374e33",
   "metadata": {},
   "outputs": [
    {
     "name": "stdout",
     "output_type": "stream",
     "text": [
      "Requirement already satisfied: torch in c:\\users\\it\\anaconda3\\lib\\site-packages (2.7.1)\n",
      "Requirement already satisfied: filelock in c:\\users\\it\\anaconda3\\lib\\site-packages (from torch) (3.13.1)\n",
      "Requirement already satisfied: typing-extensions>=4.10.0 in c:\\users\\it\\anaconda3\\lib\\site-packages (from torch) (4.11.0)\n",
      "Requirement already satisfied: sympy>=1.13.3 in c:\\users\\it\\anaconda3\\lib\\site-packages (from torch) (1.14.0)\n",
      "Requirement already satisfied: networkx in c:\\users\\it\\anaconda3\\lib\\site-packages (from torch) (3.3)\n",
      "Requirement already satisfied: jinja2 in c:\\users\\it\\anaconda3\\lib\\site-packages (from torch) (3.1.4)\n",
      "Requirement already satisfied: fsspec in c:\\users\\it\\anaconda3\\lib\\site-packages (from torch) (2024.6.1)\n",
      "Requirement already satisfied: setuptools in c:\\users\\it\\anaconda3\\lib\\site-packages (from torch) (75.1.0)\n",
      "Requirement already satisfied: mpmath<1.4,>=1.1.0 in c:\\users\\it\\anaconda3\\lib\\site-packages (from sympy>=1.13.3->torch) (1.3.0)\n",
      "Requirement already satisfied: MarkupSafe>=2.0 in c:\\users\\it\\anaconda3\\lib\\site-packages (from jinja2->torch) (2.1.3)\n"
     ]
    }
   ],
   "source": [
    "! pip install torch"
   ]
  },
  {
   "cell_type": "code",
   "execution_count": 2,
   "id": "91aee9df",
   "metadata": {},
   "outputs": [],
   "source": [
    "import torch"
   ]
  },
  {
   "cell_type": "code",
   "execution_count": 3,
   "id": "52fd5110",
   "metadata": {},
   "outputs": [
    {
     "name": "stdout",
     "output_type": "stream",
     "text": [
      "tensor([1., 2., 3.])\n",
      "tensor([[4, 5],\n",
      "        [6, 7]])\n",
      "tensor([1.2000, 2.3000, 3.4000])\n"
     ]
    }
   ],
   "source": [
    "# 1, 2, 3이 들어있는 텐서를 생성\n",
    "t1 = torch.tensor([1, 2, 3], dtype=torch.float32) #실수\n",
    "# 2차원 텐서\n",
    "t2 = torch.tensor([[4, 5], [6,7]])\n",
    "\n",
    "t3 = torch.tensor([1.2,2.3,3.4])\n",
    "\n",
    "print(t1)\n",
    "print(t2)\n",
    "print(t3)"
   ]
  },
  {
   "cell_type": "code",
   "execution_count": 4,
   "id": "932c39bb",
   "metadata": {},
   "outputs": [
    {
     "name": "stdout",
     "output_type": "stream",
     "text": [
      "tensor([1., 2., 3.])\n",
      "tensor([1, 2, 3])\n",
      "tensor([1, 2, 3], dtype=torch.uint8)\n"
     ]
    }
   ],
   "source": [
    "tf=torch.FloatTensor([1,2,3]) # 실수형 텐서\n",
    "f1=torch.LongTensor([1,2,3]) # 정수형 텐서\n",
    "tb=torch.ByteTensor([1,2,3]) # 바이트형 텐서\n",
    "print(tf)\n",
    "print(f1)\n",
    "print(tb)"
   ]
  },
  {
   "cell_type": "code",
   "execution_count": 5,
   "id": "c30caeac",
   "metadata": {},
   "outputs": [
    {
     "name": "stdout",
     "output_type": "stream",
     "text": [
      "[[1 2 3]\n",
      " [4 5 6]]\n",
      "<class 'numpy.ndarray'>\n"
     ]
    }
   ],
   "source": [
    "import numpy as np\n",
    "a = np.array([[1, 2, 3], [4, 5, 6]])\n",
    "print(a)\n",
    "print(type(a))"
   ]
  },
  {
   "cell_type": "code",
   "execution_count": 6,
   "id": "b690f767",
   "metadata": {},
   "outputs": [
    {
     "name": "stdout",
     "output_type": "stream",
     "text": [
      "tensor([[1, 2, 3],\n",
      "        [4, 5, 6]], dtype=torch.int32)\n",
      "<class 'torch.Tensor'>\n"
     ]
    }
   ],
   "source": [
    "x = torch.from_numpy(a) # NumPy 배열을 PyTorch 텐서로 변환\n",
    "print(x)\n",
    "print(type(x))"
   ]
  },
  {
   "cell_type": "code",
   "execution_count": 7,
   "id": "8c1d5062",
   "metadata": {},
   "outputs": [
    {
     "name": "stdout",
     "output_type": "stream",
     "text": [
      "[[1 2 3]\n",
      " [4 5 6]]\n",
      "<class 'numpy.ndarray'>\n"
     ]
    }
   ],
   "source": [
    "b= x.numpy()\n",
    "print(b)\n",
    "print(type(b))"
   ]
  },
  {
   "cell_type": "code",
   "execution_count": 8,
   "id": "d14ffc86",
   "metadata": {},
   "outputs": [
    {
     "name": "stdout",
     "output_type": "stream",
     "text": [
      "tensor([[1, 2, 3],\n",
      "        [4, 5, 6]])\n",
      "<class 'torch.Tensor'> torch.int64\n"
     ]
    }
   ],
   "source": [
    "x = torch.tensor([[1, 2, 3], [4, 5, 6]])\n",
    "print(x)\n",
    "print(type(x), x.dtype)"
   ]
  },
  {
   "cell_type": "code",
   "execution_count": 9,
   "id": "83671544",
   "metadata": {},
   "outputs": [
    {
     "name": "stdout",
     "output_type": "stream",
     "text": [
      "tensor([[1., 2., 3.],\n",
      "        [4., 5., 6.]])\n",
      "torch.float32\n"
     ]
    }
   ],
   "source": [
    "y = x.float()\n",
    "print(y)\n",
    "print(y.dtype)"
   ]
  },
  {
   "cell_type": "code",
   "execution_count": 10,
   "id": "9d4d5a7c",
   "metadata": {},
   "outputs": [
    {
     "name": "stdout",
     "output_type": "stream",
     "text": [
      "tensor([[1, 2, 3],\n",
      "        [4, 5, 6]])\n",
      "torch.int64\n"
     ]
    }
   ],
   "source": [
    "z = y.long()\n",
    "print(z)\n",
    "print(z.dtype)"
   ]
  },
  {
   "cell_type": "code",
   "execution_count": 11,
   "id": "a825baed",
   "metadata": {},
   "outputs": [
    {
     "name": "stdout",
     "output_type": "stream",
     "text": [
      "tensor([[1, 2, 3],\n",
      "        [4, 5, 6]], dtype=torch.uint8)\n",
      "torch.uint8\n"
     ]
    }
   ],
   "source": [
    "z1 = y.byte()\n",
    "print(z1)\n",
    "print(z1.dtype)"
   ]
  },
  {
   "cell_type": "code",
   "execution_count": 12,
   "id": "7ee96934",
   "metadata": {},
   "outputs": [
    {
     "data": {
      "text/plain": [
       "array([[[ 1,  2],\n",
       "        [ 3,  4]],\n",
       "\n",
       "       [[ 5,  6],\n",
       "        [ 7,  8]],\n",
       "\n",
       "       [[ 9, 10],\n",
       "        [11, 12]]])"
      ]
     },
     "execution_count": 12,
     "metadata": {},
     "output_type": "execute_result"
    }
   ],
   "source": [
    "a = np.arange(1,13).reshape(3,2,2)\n",
    "a"
   ]
  },
  {
   "cell_type": "code",
   "execution_count": 13,
   "id": "4e30f8db",
   "metadata": {},
   "outputs": [
    {
     "name": "stdout",
     "output_type": "stream",
     "text": [
      "torch.Size([3, 2, 2])\n",
      "torch.Size([3, 2, 2])\n",
      "3\n",
      "3\n"
     ]
    }
   ],
   "source": [
    "x = torch.from_numpy(a)\n",
    "print(x.shape)\n",
    "print(x.size())\n",
    "print(x.dim())\n",
    "print(x.ndim)"
   ]
  },
  {
   "cell_type": "code",
   "execution_count": 14,
   "id": "ab1ca1a1",
   "metadata": {},
   "outputs": [
    {
     "name": "stdout",
     "output_type": "stream",
     "text": [
      "3\n",
      "2\n",
      "2\n",
      "2\n"
     ]
    }
   ],
   "source": [
    "#torch.Size([3, 2, 2])\n",
    "print(x.size(0))  # 첫 번째 차원의 크기\n",
    "print(x.size(1))  # 두 번째 차원의 크기\n",
    "print(x.size(2))  # 세 번째 차원의 크기\n",
    "print(x.size(-1))  # 마지막 차원의 크기"
   ]
  },
  {
   "cell_type": "code",
   "execution_count": 15,
   "id": "6c908cda",
   "metadata": {},
   "outputs": [
    {
     "name": "stdout",
     "output_type": "stream",
     "text": [
      "3\n",
      "2\n",
      "2\n",
      "2\n"
     ]
    }
   ],
   "source": [
    "print(x.shape[0])\n",
    "print(x.shape[1])\n",
    "print(x.shape[2])\n",
    "print(x.shape[-1])"
   ]
  },
  {
   "cell_type": "code",
   "execution_count": 16,
   "id": "7fd40f8e",
   "metadata": {},
   "outputs": [
    {
     "name": "stdout",
     "output_type": "stream",
     "text": [
      "덧셈: tensor([[15, 18],\n",
      "        [20, 22]])\n",
      "뺄셈: tensor([[5, 6],\n",
      "        [6, 6]])\n",
      "곱셈: tensor([[ 50,  72],\n",
      "        [ 91, 112]])\n",
      "정수 나눗셈: tensor([[2, 2],\n",
      "        [1, 1]])\n",
      "나눗셈: tensor([[2.0000, 2.0000],\n",
      "        [1.8571, 1.7500]])\n",
      "나머지: tensor([[0, 0],\n",
      "        [6, 6]])\n"
     ]
    }
   ],
   "source": [
    "#기본 연산\n",
    "x = torch.tensor([[10, 12], [13, 14]])\n",
    "y = torch.tensor([[5, 6], [7, 8]])\n",
    "print('덧셈:', x + y)  # 덧셈\n",
    "print('뺄셈:', x - y)  # 뺄셈\n",
    "print('곱셈:', x * y)  # 곱셈\n",
    "print('정수 나눗셈:', x // y) # 정수 나눗셈\n",
    "print('나눗셈:', x / y)  # 나눗셈\n",
    "print('나머지:', x % y)  # 나머지\n"
   ]
  },
  {
   "cell_type": "code",
   "execution_count": 17,
   "id": "732c6cd3",
   "metadata": {},
   "outputs": [
    {
     "name": "stdout",
     "output_type": "stream",
     "text": [
      "tensor([[100, 144],\n",
      "        [169, 196]])\n",
      "tensor([[1000, 1728],\n",
      "        [2197, 2744]])\n"
     ]
    }
   ],
   "source": [
    "print(x**2) # 제곱\n",
    "print(x**3) # 세제곱"
   ]
  },
  {
   "cell_type": "code",
   "execution_count": 18,
   "id": "c06b6d94",
   "metadata": {},
   "outputs": [
    {
     "name": "stdout",
     "output_type": "stream",
     "text": [
      "tensor([[False,  True],\n",
      "        [ True, False]])\n",
      "tensor([[ True, False],\n",
      "        [False,  True]])\n",
      "tensor([[ True, False],\n",
      "        [False, False]])\n",
      "tensor([[False, False],\n",
      "        [False,  True]])\n",
      "tensor([[ True,  True],\n",
      "        [ True, False]])\n",
      "tensor([[False,  True],\n",
      "        [ True,  True]])\n",
      "tensor([[ 8,  8],\n",
      "        [18, 18]])\n",
      "tensor([[ 8,  8],\n",
      "        [18, 18]])\n"
     ]
    }
   ],
   "source": [
    "a = torch.tensor([[1,2],[3,4]])\n",
    "b = torch.tensor([[2,2],[3,3]])\n",
    "print(a==b) # 비교 연산\n",
    "print(a!=b) # 비교 연산\n",
    "print(a < b)  # a가 b보다 작은지\n",
    "print(a > b)  # a가 b보다 큰지\n",
    "print(a <= b)  # a가 b보다 작거나 같은지\n",
    "print(a >= b)  # a가 b보다 크거나 같은지\n",
    "\n",
    "print(torch.matmul(a, b))  # 행렬 곱셈\n",
    "print(a @ b)  # 행렬 곱셈 (파이썬 3.5 이상에서 지원)"
   ]
  },
  {
   "cell_type": "code",
   "execution_count": 19,
   "id": "06800819",
   "metadata": {},
   "outputs": [
    {
     "name": "stdout",
     "output_type": "stream",
     "text": [
      "tensor([[ 2,  4],\n",
      "        [ 9, 12]])\n",
      "tensor([[ 2,  4],\n",
      "        [ 9, 12]])\n"
     ]
    }
   ],
   "source": [
    "print(a.mul_(b))  # 행렬 곱셈\n",
    "print(a)"
   ]
  },
  {
   "cell_type": "code",
   "execution_count": 20,
   "id": "75edd4ff",
   "metadata": {},
   "outputs": [
    {
     "name": "stdout",
     "output_type": "stream",
     "text": [
      "[[ 1  2  3  4]\n",
      " [ 5  6  7  8]\n",
      " [ 9 10 11 12]]\n",
      "tensor([[ 1,  2,  3,  4],\n",
      "        [ 5,  6,  7,  8],\n",
      "        [ 9, 10, 11, 12]], dtype=torch.int32)\n"
     ]
    }
   ],
   "source": [
    "a = np.arange(1, 13).reshape(3, 4)\n",
    "print(a)\n",
    "\n",
    "x = torch.from_numpy(a)\n",
    "print(x)"
   ]
  },
  {
   "cell_type": "code",
   "execution_count": 21,
   "id": "006692a9",
   "metadata": {},
   "outputs": [
    {
     "name": "stdout",
     "output_type": "stream",
     "text": [
      "tensor(78)\n",
      "tensor([15, 18, 21, 24])\n",
      "tensor([10, 26, 42])\n",
      "tensor([10, 26, 42])\n"
     ]
    }
   ],
   "source": [
    "print(x.sum())  # 전체 원소의 합\n",
    "print(x.sum(dim=0))  # 각 열의 합\n",
    "print(x.sum(dim=1))  # 각 행의 합\n",
    "print(x.sum(dim=-1))  # 마지막 차원의 합"
   ]
  },
  {
   "cell_type": "code",
   "execution_count": 22,
   "id": "58ef8ba2",
   "metadata": {},
   "outputs": [
    {
     "name": "stdout",
     "output_type": "stream",
     "text": [
      "tensor([1, 2, 3, 4])\n",
      "tensor([[ 1,  2,  3,  4],\n",
      "        [ 5,  6,  7,  8],\n",
      "        [ 9, 10, 11, 12]], dtype=torch.int32)\n",
      "tensor([5, 6, 7])\n"
     ]
    }
   ],
   "source": [
    "y = torch.tensor([1,2,3,4])\n",
    "z = torch.tensor([5,6,7])\n",
    "print(y)\n",
    "print(x)\n",
    "print(z)"
   ]
  },
  {
   "cell_type": "code",
   "execution_count": 23,
   "id": "3d1cafa9",
   "metadata": {},
   "outputs": [
    {
     "name": "stdout",
     "output_type": "stream",
     "text": [
      "tensor([[11, 12, 13, 14],\n",
      "        [15, 16, 17, 18],\n",
      "        [19, 20, 21, 22]], dtype=torch.int32)\n"
     ]
    }
   ],
   "source": [
    "print(x+10)"
   ]
  },
  {
   "cell_type": "code",
   "execution_count": 24,
   "id": "5c1dcba3",
   "metadata": {},
   "outputs": [
    {
     "name": "stdout",
     "output_type": "stream",
     "text": [
      "tensor([[ 2,  4,  6,  8],\n",
      "        [ 6,  8, 10, 12],\n",
      "        [10, 12, 14, 16]])\n"
     ]
    }
   ],
   "source": [
    "print(x+y)"
   ]
  },
  {
   "cell_type": "code",
   "execution_count": 25,
   "id": "4d4ad37a",
   "metadata": {},
   "outputs": [],
   "source": [
    "#print(x+z) 차원이 맞지 않아서 오류 발생"
   ]
  },
  {
   "cell_type": "code",
   "execution_count": 26,
   "id": "e21926a8",
   "metadata": {},
   "outputs": [
    {
     "name": "stdout",
     "output_type": "stream",
     "text": [
      "[[[ 1  2]\n",
      "  [ 3  4]]\n",
      "\n",
      " [[ 5  6]\n",
      "  [ 7  8]]\n",
      "\n",
      " [[ 9 10]\n",
      "  [11 12]]]\n",
      "tensor([[[ 1,  2],\n",
      "         [ 3,  4]],\n",
      "\n",
      "        [[ 5,  6],\n",
      "         [ 7,  8]],\n",
      "\n",
      "        [[ 9, 10],\n",
      "         [11, 12]]], dtype=torch.int32)\n",
      "tensor([[1, 2],\n",
      "        [3, 4]])\n",
      "tensor([1, 2])\n"
     ]
    }
   ],
   "source": [
    "a = np.arange(1, 13).reshape(3, 2, 2)\n",
    "print(a)\n",
    "x = torch.from_numpy(a)\n",
    "y = torch.tensor([[1, 2], [3, 4]])\n",
    "z = torch.tensor([1,2])\n",
    "print(x)\n",
    "print(y)\n",
    "print(z)"
   ]
  },
  {
   "cell_type": "code",
   "execution_count": 27,
   "id": "ee6ba8f1",
   "metadata": {},
   "outputs": [
    {
     "name": "stdout",
     "output_type": "stream",
     "text": [
      "tensor([[[ 6,  7],\n",
      "         [ 8,  9]],\n",
      "\n",
      "        [[10, 11],\n",
      "         [12, 13]],\n",
      "\n",
      "        [[14, 15],\n",
      "         [16, 17]]], dtype=torch.int32)\n"
     ]
    }
   ],
   "source": [
    "print(x+5) "
   ]
  },
  {
   "cell_type": "code",
   "execution_count": 28,
   "id": "b30f741c",
   "metadata": {},
   "outputs": [
    {
     "name": "stdout",
     "output_type": "stream",
     "text": [
      "tensor([[[ 2,  4],\n",
      "         [ 4,  6]],\n",
      "\n",
      "        [[ 6,  8],\n",
      "         [ 8, 10]],\n",
      "\n",
      "        [[10, 12],\n",
      "         [12, 14]]])\n"
     ]
    }
   ],
   "source": [
    "print(x+z) # y와 z의 크기가 다르므로 브로드캐스팅이 적용됨"
   ]
  },
  {
   "cell_type": "code",
   "execution_count": 29,
   "id": "1fac7e8a",
   "metadata": {},
   "outputs": [
    {
     "name": "stdout",
     "output_type": "stream",
     "text": [
      "tensor([[[ 1,  2],\n",
      "         [ 3,  4]],\n",
      "\n",
      "        [[ 5,  6],\n",
      "         [ 7,  8]],\n",
      "\n",
      "        [[ 9, 10],\n",
      "         [11, 12]]], dtype=torch.int32)\n",
      "tensor([[ 1,  2,  3,  4],\n",
      "        [ 5,  6,  7,  8],\n",
      "        [ 9, 10, 11, 12]], dtype=torch.int32)\n",
      "tensor([[ 1,  2,  3,  4,  5,  6],\n",
      "        [ 7,  8,  9, 10, 11, 12]], dtype=torch.int32)\n",
      "tensor([[ 1,  2,  3,  4],\n",
      "        [ 5,  6,  7,  8],\n",
      "        [ 9, 10, 11, 12]], dtype=torch.int32)\n",
      "tensor([[ 1,  2,  3,  4],\n",
      "        [ 5,  6,  7,  8],\n",
      "        [ 9, 10, 11, 12]], dtype=torch.int32)\n",
      "tensor([[ 1,  2,  3],\n",
      "        [ 4,  5,  6],\n",
      "        [ 7,  8,  9],\n",
      "        [10, 11, 12]], dtype=torch.int32)\n",
      "tensor([[ 1,  2,  3,  4],\n",
      "        [ 5,  6,  7,  8],\n",
      "        [ 9, 10, 11, 12]], dtype=torch.int32)\n",
      "tensor([[ 1,  2,  3,  4,  5,  6],\n",
      "        [ 7,  8,  9, 10, 11, 12]], dtype=torch.int32)\n",
      "tensor([[ 1,  2,  3,  4],\n",
      "        [ 5,  6,  7,  8],\n",
      "        [ 9, 10, 11, 12]], dtype=torch.int32)\n",
      "tensor([[ 1,  2,  3,  4],\n",
      "        [ 5,  6,  7,  8],\n",
      "        [ 9, 10, 11, 12]], dtype=torch.int32)\n",
      "tensor([ 1,  2,  3,  4,  5,  6,  7,  8,  9, 10, 11, 12], dtype=torch.int32)\n",
      "tensor([ 1,  2,  3,  4,  5,  6,  7,  8,  9, 10, 11, 12], dtype=torch.int32)\n"
     ]
    }
   ],
   "source": [
    "print(x)\n",
    "print(x.view(3, 4))  # 3행 4열로 모양 변경\n",
    "print(x.view(2, 6))  # 2행 6열로 모양 변경\n",
    "print(x.view(3, -1))  # 3행으로 변환, 열은 자동 계산\n",
    "print(x.view(-1,4)) # 4열로 변환, 행은 자동 계산\n",
    "print(x.reshape(4, 3)) # reshape는 view와 유사하지만, 메모리 복사를 허용함\n",
    "print(x.reshape(3,4)) # 3행 4열로 모양 변경\n",
    "print(x.reshape(2,6)) # 2행 6열로 모양 변경\n",
    "print(x.reshape(3, -1)) # 3행으로 변환, 열은 자동 계산\n",
    "print(x.reshape(-1, 4)) # 4열로 변환, 행은 자동 계산\n",
    "print(x.reshape(-1)) # 1차원으로 변환\n",
    "print(x.view(-1)) # 1차원으로 변환, view는 메모리 복사를 하지 않음\n"
   ]
  },
  {
   "cell_type": "code",
   "execution_count": 30,
   "id": "cda53163",
   "metadata": {},
   "outputs": [
    {
     "name": "stdout",
     "output_type": "stream",
     "text": [
      "tensor([[[ 1,  2,  3,  4]],\n",
      "\n",
      "        [[ 5,  6,  7,  8]],\n",
      "\n",
      "        [[ 9, 10, 11, 12]]], dtype=torch.int32)\n",
      "tensor([[ 1,  2,  3,  4],\n",
      "        [ 5,  6,  7,  8],\n",
      "        [ 9, 10, 11, 12]], dtype=torch.int32)\n",
      "torch.Size([3, 4])\n"
     ]
    }
   ],
   "source": [
    "y = x.view(3, 1, 4) # 3행 1열 4차원으로 모양 변경\n",
    "print(y)\n",
    "print(y.squeeze())  # 차원 축소\n",
    "print(y.squeeze().shape)"
   ]
  },
  {
   "cell_type": "code",
   "execution_count": 31,
   "id": "28d21af5",
   "metadata": {},
   "outputs": [
    {
     "data": {
      "text/plain": [
       "tensor([1, 2])"
      ]
     },
     "execution_count": 31,
     "metadata": {},
     "output_type": "execute_result"
    }
   ],
   "source": [
    "z"
   ]
  },
  {
   "cell_type": "code",
   "execution_count": 32,
   "id": "57ffbf58",
   "metadata": {},
   "outputs": [
    {
     "name": "stdout",
     "output_type": "stream",
     "text": [
      "tensor([[1],\n",
      "        [2]])\n",
      "tensor([[1, 2]])\n",
      "torch.Size([3, 2, 2])\n"
     ]
    }
   ],
   "source": [
    "z1 = z.unsqueeze(1) \n",
    "print(z1) \n",
    "z2 = z.unsqueeze(0)\n",
    "print(z2)  \n",
    "print(x.size())"
   ]
  },
  {
   "cell_type": "code",
   "execution_count": 33,
   "id": "bc5936c2",
   "metadata": {},
   "outputs": [
    {
     "data": {
      "text/plain": [
       "tensor([[[ 1,  2],\n",
       "         [ 3,  4]],\n",
       "\n",
       "        [[ 5,  6],\n",
       "         [ 7,  8]],\n",
       "\n",
       "        [[ 9, 10],\n",
       "         [11, 12]]], dtype=torch.int32)"
      ]
     },
     "execution_count": 33,
     "metadata": {},
     "output_type": "execute_result"
    }
   ],
   "source": [
    "x"
   ]
  },
  {
   "cell_type": "code",
   "execution_count": 34,
   "id": "1b4b4c20",
   "metadata": {},
   "outputs": [
    {
     "name": "stdout",
     "output_type": "stream",
     "text": [
      "tensor([[1, 2],\n",
      "        [3, 4]], dtype=torch.int32)\n",
      "tensor([1, 2], dtype=torch.int32)\n",
      "tensor(1, dtype=torch.int32)\n"
     ]
    }
   ],
   "source": [
    "print(x[0]) # 첫 번째 행렬\n",
    "print(x[0,0]) # 첫 번째 행렬의 첫 번째 원소\n",
    "print(x[0, 0, 0]) # 첫 번째 행렬의 첫 번째 원소의 첫 번째 값"
   ]
  },
  {
   "cell_type": "code",
   "execution_count": 35,
   "id": "3d0354af",
   "metadata": {},
   "outputs": [
    {
     "name": "stdout",
     "output_type": "stream",
     "text": [
      "tensor([6, 8], dtype=torch.int32)\n"
     ]
    }
   ],
   "source": [
    "print(x[1,:,-1])"
   ]
  },
  {
   "cell_type": "code",
   "execution_count": 36,
   "id": "49674953",
   "metadata": {},
   "outputs": [
    {
     "name": "stdout",
     "output_type": "stream",
     "text": [
      "tensor([[ 1,  2,  3,  4],\n",
      "        [ 5,  6,  7,  8],\n",
      "        [ 9, 10, 11, 12],\n",
      "        [13, 14, 15, 16],\n",
      "        [17, 18, 19, 20],\n",
      "        [21, 22, 23, 24],\n",
      "        [25, 26, 27, 28],\n",
      "        [29, 30, 31, 32],\n",
      "        [33, 34, 35, 36],\n",
      "        [37, 38, 39, 40]], dtype=torch.int32)\n"
     ]
    }
   ],
   "source": [
    "a = np.arange(1,41).reshape(10,4)\n",
    "x = torch.from_numpy(a)\n",
    "print(x) # 10행 4열의 실수형 텐서"
   ]
  },
  {
   "cell_type": "code",
   "execution_count": 37,
   "id": "a5608585",
   "metadata": {},
   "outputs": [
    {
     "name": "stdout",
     "output_type": "stream",
     "text": [
      "tensor([[ 1,  2,  3,  4],\n",
      "        [ 5,  6,  7,  8],\n",
      "        [ 9, 10, 11, 12],\n",
      "        [13, 14, 15, 16]], dtype=torch.int32)\n",
      "torch.Size([4, 4])\n",
      "tensor([[17, 18, 19, 20],\n",
      "        [21, 22, 23, 24],\n",
      "        [25, 26, 27, 28],\n",
      "        [29, 30, 31, 32]], dtype=torch.int32)\n",
      "torch.Size([4, 4])\n",
      "tensor([[33, 34, 35, 36],\n",
      "        [37, 38, 39, 40]], dtype=torch.int32)\n",
      "torch.Size([2, 4])\n"
     ]
    }
   ],
   "source": [
    "split_x = torch.split(x, 4, dim=0)  # 첫 번째 차원(행)을 기준으로 2개씩 나눔\n",
    "# print(split_x)  # 나눠진 텐서들 출력\n",
    "for  sx in split_x:\n",
    "    print(sx)  # 각 나눠진 텐서의 크기 출력\n",
    "    print(sx.shape)  # 각 나눠진 텐서의 형태 출력"
   ]
  },
  {
   "cell_type": "code",
   "execution_count": 38,
   "id": "892d1b33",
   "metadata": {},
   "outputs": [
    {
     "name": "stdout",
     "output_type": "stream",
     "text": [
      "tensor([[1, 2, 3, 4],\n",
      "        [5, 6, 7, 8]], dtype=torch.int32)\n",
      "torch.Size([2, 4])\n",
      "tensor([[ 9, 10, 11, 12],\n",
      "        [13, 14, 15, 16]], dtype=torch.int32)\n",
      "torch.Size([2, 4])\n",
      "tensor([[17, 18, 19, 20],\n",
      "        [21, 22, 23, 24]], dtype=torch.int32)\n",
      "torch.Size([2, 4])\n",
      "tensor([[25, 26, 27, 28],\n",
      "        [29, 30, 31, 32]], dtype=torch.int32)\n",
      "torch.Size([2, 4])\n",
      "tensor([[33, 34, 35, 36],\n",
      "        [37, 38, 39, 40]], dtype=torch.int32)\n",
      "torch.Size([2, 4])\n"
     ]
    }
   ],
   "source": [
    "chunks = x.chunk(5, dim=0)  # 첫 번째 차원(행)을 기준으로 4개로 나눔\n",
    "for chunk in chunks:\n",
    "    print(chunk)  # 각 나눠진 텐서의 크기 출력\n",
    "    print(chunk.shape)  # 각 나눠진 텐서의 형태 출력"
   ]
  },
  {
   "cell_type": "code",
   "execution_count": 39,
   "id": "2e3ac527",
   "metadata": {},
   "outputs": [
    {
     "name": "stdout",
     "output_type": "stream",
     "text": [
      "tensor([[[ 1,  2],\n",
      "         [ 3,  4]],\n",
      "\n",
      "        [[ 5,  6],\n",
      "         [ 7,  8]],\n",
      "\n",
      "        [[ 9, 10],\n",
      "         [11, 12]]], dtype=torch.int32)\n"
     ]
    }
   ],
   "source": [
    "a = np.arange(1,13).reshape(3,2,2)\n",
    "x = torch.from_numpy(a)  # NumPy 배열을 PyTorch 텐서로 변환\n",
    "print(x)"
   ]
  },
  {
   "cell_type": "code",
   "execution_count": 40,
   "id": "b36153df",
   "metadata": {},
   "outputs": [
    {
     "name": "stdout",
     "output_type": "stream",
     "text": [
      "tensor([2, 1, 0])\n",
      "tensor([[[ 9, 10],\n",
      "         [11, 12]],\n",
      "\n",
      "        [[ 5,  6],\n",
      "         [ 7,  8]],\n",
      "\n",
      "        [[ 1,  2],\n",
      "         [ 3,  4]]], dtype=torch.int32)\n"
     ]
    }
   ],
   "source": [
    "indices = torch.LongTensor([2,1,0]) # 인덱스 텐서 생성\n",
    "print(indices)\n",
    "y = x.index_select(0, indices)  # 첫 번째 차원(행)을 기준으로 인덱스 선택\n",
    "print(y)  # 선택된 행 출력"
   ]
  },
  {
   "cell_type": "code",
   "execution_count": 41,
   "id": "1ac261a8",
   "metadata": {},
   "outputs": [
    {
     "name": "stdout",
     "output_type": "stream",
     "text": [
      "tensor([[ 1,  2,  3,  4],\n",
      "        [ 5,  6,  7,  8],\n",
      "        [ 9, 10, 11, 12]], dtype=torch.int32)\n",
      "tensor([[11, 12, 13, 14],\n",
      "        [15, 16, 17, 18],\n",
      "        [19, 20, 21, 22]], dtype=torch.int32)\n"
     ]
    }
   ],
   "source": [
    "a = np.arange(1,13).reshape(3,4)\n",
    "b = np.arange(11,23).reshape(3,4)\n",
    "x = torch.from_numpy(a)  # NumPy 배열을 PyTorch 텐서로 변환\n",
    "y = torch.from_numpy(b)  # NumPy 배열을 PyTorch 텐서로 변환\n",
    "print(x)\n",
    "print(y)"
   ]
  },
  {
   "cell_type": "code",
   "execution_count": 42,
   "id": "d2a6693e",
   "metadata": {},
   "outputs": [
    {
     "name": "stdout",
     "output_type": "stream",
     "text": [
      "tensor([[ 1,  2,  3,  4],\n",
      "        [ 5,  6,  7,  8],\n",
      "        [ 9, 10, 11, 12],\n",
      "        [11, 12, 13, 14],\n",
      "        [15, 16, 17, 18],\n",
      "        [19, 20, 21, 22]], dtype=torch.int32)\n"
     ]
    }
   ],
   "source": [
    "z = torch.cat((x, y), dim=0)    # 행 방향으로 x, y를 연결\n",
    "print(z)"
   ]
  },
  {
   "cell_type": "code",
   "execution_count": 43,
   "id": "644dfd12",
   "metadata": {},
   "outputs": [
    {
     "name": "stdout",
     "output_type": "stream",
     "text": [
      "tensor([[ 1,  2,  3,  4, 11, 12, 13, 14],\n",
      "        [ 5,  6,  7,  8, 15, 16, 17, 18],\n",
      "        [ 9, 10, 11, 12, 19, 20, 21, 22]], dtype=torch.int32)\n"
     ]
    }
   ],
   "source": [
    "z1 = torch.cat((x, y), dim=1)    # 열 방향으로 x, y를 연결\n",
    "print(z1)"
   ]
  },
  {
   "cell_type": "code",
   "execution_count": 44,
   "id": "4f7729fe",
   "metadata": {},
   "outputs": [
    {
     "name": "stdout",
     "output_type": "stream",
     "text": [
      "tensor([[[ 1,  2,  3,  4],\n",
      "         [ 5,  6,  7,  8],\n",
      "         [ 9, 10, 11, 12]],\n",
      "\n",
      "        [[11, 12, 13, 14],\n",
      "         [15, 16, 17, 18],\n",
      "         [19, 20, 21, 22]]], dtype=torch.int32)\n",
      "torch.Size([2, 3, 4])\n"
     ]
    }
   ],
   "source": [
    "z2 = torch.stack((x, y), dim=0) # 행 방향으로 x, y를 다른 차원으로 묶은 텐서를 생성\n",
    "print(z2)\n",
    "print(z2.size())"
   ]
  },
  {
   "cell_type": "code",
   "execution_count": 45,
   "id": "caa0c622",
   "metadata": {},
   "outputs": [
    {
     "name": "stdout",
     "output_type": "stream",
     "text": [
      "tensor([[[ 1,  2,  3,  4],\n",
      "         [11, 12, 13, 14]],\n",
      "\n",
      "        [[ 5,  6,  7,  8],\n",
      "         [15, 16, 17, 18]],\n",
      "\n",
      "        [[ 9, 10, 11, 12],\n",
      "         [19, 20, 21, 22]]], dtype=torch.int32)\n",
      "torch.Size([3, 2, 4])\n"
     ]
    }
   ],
   "source": [
    "z3 = torch.stack((x, y), dim=1) # 열 방향으로 x, y를 다른 차원으로 묶은 텐서를 생성\n",
    "print(z3)\n",
    "print(z3.size())"
   ]
  },
  {
   "cell_type": "code",
   "execution_count": 46,
   "id": "f7228fd0",
   "metadata": {},
   "outputs": [
    {
     "name": "stdout",
     "output_type": "stream",
     "text": [
      "torch.Size([2, 1, 2])\n",
      "tensor([[[1., 2.]],\n",
      "\n",
      "        [[3., 4.]]])\n"
     ]
    }
   ],
   "source": [
    "x = torch.FloatTensor([[[1, 2]], [[3, 4]]])\n",
    "print(x.size())\n",
    "print(x)"
   ]
  },
  {
   "cell_type": "code",
   "execution_count": 47,
   "id": "785e65c1",
   "metadata": {},
   "outputs": [
    {
     "name": "stdout",
     "output_type": "stream",
     "text": [
      "torch.Size([2, 2, 2])\n",
      "tensor([[[1., 2.],\n",
      "         [1., 2.]],\n",
      "\n",
      "        [[3., 4.],\n",
      "         [3., 4.]]])\n"
     ]
    }
   ],
   "source": [
    "y = x.expand(2, 2, 2)   # x의 크기를 (2, 2, 2)로 확장\n",
    "print(y.size())\n",
    "print(y)"
   ]
  },
  {
   "cell_type": "code",
   "execution_count": 48,
   "id": "dee4a554",
   "metadata": {},
   "outputs": [
    {
     "name": "stdout",
     "output_type": "stream",
     "text": [
      "tensor([ 1,  7,  5, 15, 12, 13, 10, 18,  3, 19,  9, 14,  4,  2, 11,  6,  8, 17,\n",
      "        16,  0])\n"
     ]
    }
   ],
   "source": [
    "x = torch.randperm(20)  # random permutation (0 ~ n-1 범위의 숫자를 n개 랜덤 수열 생성)\n",
    "print(x)"
   ]
  },
  {
   "cell_type": "code",
   "execution_count": 51,
   "id": "17e296bc",
   "metadata": {},
   "outputs": [
    {
     "name": "stdout",
     "output_type": "stream",
     "text": [
      "tensor([13,  4, 18, 26, 25,  3, 17,  9, 24, 12, 14, 16,  7,  6, 10,  2, 11, 21,\n",
      "        15, 22, 23,  0, 19,  5,  8, 20,  1])\n",
      "tensor([[[13,  4, 18],\n",
      "         [26, 25,  3],\n",
      "         [17,  9, 24]],\n",
      "\n",
      "        [[12, 14, 16],\n",
      "         [ 7,  6, 10],\n",
      "         [ 2, 11, 21]],\n",
      "\n",
      "        [[15, 22, 23],\n",
      "         [ 0, 19,  5],\n",
      "         [ 8, 20,  1]]])\n"
     ]
    }
   ],
   "source": [
    "y = torch.randperm(3**3)\n",
    "yr = y.reshape(3, 3, -1)    # 마지막 차원에 -1을 입력하면 알아서 크기를 맞춤\n",
    "print(y)\n",
    "print(yr)"
   ]
  },
  {
   "cell_type": "code",
   "execution_count": null,
   "id": "d5b6062d",
   "metadata": {},
   "outputs": [
    {
     "name": "stdout",
     "output_type": "stream",
     "text": [
      "tensor([[2, 2, 2],\n",
      "        [0, 0, 1],\n",
      "        [0, 2, 0]])\n"
     ]
    }
   ],
   "source": [
    "y1 = yr.argmax(dim=0)   # x000, x100, x200에서 최고값의 인덱스를 찾음\n",
    "print(y1)"
   ]
  },
  {
   "cell_type": "code",
   "execution_count": 53,
   "id": "37dbfb6d",
   "metadata": {},
   "outputs": [
    {
     "name": "stdout",
     "output_type": "stream",
     "text": [
      "tensor([[1, 1, 2],\n",
      "        [0, 0, 2],\n",
      "        [0, 0, 0]])\n"
     ]
    }
   ],
   "source": [
    "y2 = yr.argmax(dim=1)   # x01, x11, x21에서 최고값의 인덱스를 찾음\n",
    "print(y2)"
   ]
  },
  {
   "cell_type": "code",
   "execution_count": null,
   "id": "8818fced",
   "metadata": {},
   "outputs": [
    {
     "name": "stdout",
     "output_type": "stream",
     "text": [
      "tensor([[2, 0, 2],\n",
      "        [2, 2, 2],\n",
      "        [2, 1, 1]])\n"
     ]
    }
   ],
   "source": [
    "y3 = yr.argmax(dim=-1)   # 같은 행에서 최고값의 인덱스를 찾음 (-1은 마지막 차원이라는 의미. 3차원에선 2를 써도 같은 값이 나옴)\n",
    "print(y3)"
   ]
  },
  {
   "cell_type": "code",
   "execution_count": null,
   "id": "e53b3d67",
   "metadata": {},
   "outputs": [
    {
     "name": "stdout",
     "output_type": "stream",
     "text": [
      "tensor([26])\n",
      "tensor([3])\n"
     ]
    }
   ],
   "source": [
    "value, indices = torch.topk(y, k=1, dim=-1) # y의 dim=-1에서(같은 행에서) 최댓값 k개와 그 인덱스\n",
    "print(value)\n",
    "print(indices)"
   ]
  },
  {
   "cell_type": "code",
   "execution_count": 58,
   "id": "906b5e23",
   "metadata": {},
   "outputs": [
    {
     "name": "stdout",
     "output_type": "stream",
     "text": [
      "tensor([[1., 2., 3.],\n",
      "        [4., 5., 6.],\n",
      "        [7., 8., 9.]])\n"
     ]
    }
   ],
   "source": [
    "x = torch.FloatTensor([i for i in range(1, 10)]).view(3, 3)\n",
    "print(x)"
   ]
  },
  {
   "cell_type": "code",
   "execution_count": 59,
   "id": "3c76885a",
   "metadata": {},
   "outputs": [
    {
     "name": "stdout",
     "output_type": "stream",
     "text": [
      "tensor([[False, False, False],\n",
      "        [False, False,  True],\n",
      "        [ True,  True,  True]])\n"
     ]
    }
   ],
   "source": [
    "mask = x > 5\n",
    "print(mask)"
   ]
  },
  {
   "cell_type": "code",
   "execution_count": 60,
   "id": "408c7dc3",
   "metadata": {},
   "outputs": [
    {
     "name": "stdout",
     "output_type": "stream",
     "text": [
      "tensor([[1., 2., 3.],\n",
      "        [4., 5., 0.],\n",
      "        [0., 0., 0.]])\n"
     ]
    }
   ],
   "source": [
    "y = x.masked_fill(mask, value=0)    # 마스크의 true부분을 0으로 반환\n",
    "print(y)"
   ]
  },
  {
   "cell_type": "code",
   "execution_count": null,
   "id": "80926960",
   "metadata": {},
   "outputs": [
    {
     "name": "stdout",
     "output_type": "stream",
     "text": [
      "tensor([[1., 1., 1.],\n",
      "        [1., 1., 1.]])\n",
      "tensor([[0., 0., 0.],\n",
      "        [0., 0., 0.]])\n",
      "\n",
      "tensor([[1., 2., 3.],\n",
      "        [4., 5., 6.],\n",
      "        [7., 8., 9.]])\n",
      "torch.Size([3, 3])\n",
      "\n",
      "tensor([[1., 1., 1.],\n",
      "        [1., 1., 1.],\n",
      "        [1., 1., 1.]])\n",
      "tensor([[0., 0., 0.],\n",
      "        [0., 0., 0.],\n",
      "        [0., 0., 0.]])\n"
     ]
    }
   ],
   "source": [
    "print(torch.ones(2,3)) \n",
    "print(torch.zeros(2,3))\n",
    "\n",
    "print()\n",
    "\n",
    "x=torch.FloatTensor([[1,2,3],[4,5,6], [7, 8, 9]]) \n",
    "print(x) \n",
    "print(x.size())\n",
    "print()\n",
    "print(torch.ones_like(x))   # x의 size인 (3, 3)으로 텐서를 만들겠다는 뜻\n",
    "print(torch.zeros_like(x))"
   ]
  },
  {
   "cell_type": "code",
   "execution_count": null,
   "id": "b7916238",
   "metadata": {},
   "outputs": [],
   "source": []
  }
 ],
 "metadata": {
  "kernelspec": {
   "display_name": "base",
   "language": "python",
   "name": "python3"
  },
  "language_info": {
   "codemirror_mode": {
    "name": "ipython",
    "version": 3
   },
   "file_extension": ".py",
   "mimetype": "text/x-python",
   "name": "python",
   "nbconvert_exporter": "python",
   "pygments_lexer": "ipython3",
   "version": "3.12.7"
  }
 },
 "nbformat": 4,
 "nbformat_minor": 5
}
